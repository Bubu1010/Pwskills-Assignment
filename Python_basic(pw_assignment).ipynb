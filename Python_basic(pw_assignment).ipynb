{
  "nbformat": 4,
  "nbformat_minor": 0,
  "metadata": {
    "colab": {
      "provenance": []
    },
    "kernelspec": {
      "name": "python3",
      "display_name": "Python 3"
    },
    "language_info": {
      "name": "python"
    }
  },
  "cells": [
    {
      "cell_type": "markdown",
      "source": [
        "#                     Python Basic Assignment"
      ],
      "metadata": {
        "id": "KVc5vWTajayd"
      }
    },
    {
      "cell_type": "markdown",
      "source": [
        "1) Ans\n",
        "\n",
        "  a)Readability and Simplicity: Python's syntax is clear and easy to understand, which makes it accessible for beginners and allows experienced developers to write code quickly.\n",
        "\n",
        "   b)Rich Standard Library: Python comes with a vast standard library that provides modules and functions for various tasks, reducing the need for external libraries and speeding up development.\n",
        "\n",
        "   c)Strong Community Support: Python has a large and active community, which means plenty of resources, documentation, and libraries are available. This support makes troubleshooting and finding solutions easier.\n",
        "\n",
        "   d)Extensive Libraries and Frameworks: Python boasts a rich ecosystem of third-party libraries and frameworks, such as NumPy for numerical computing, Pandas for data manipulation, Django and Flask for web development, and TensorFlow and PyTorch for machine learning.\n",
        "   \n",
        "   e)Strong Support for Data Science and AI: With a growing focus on data science, machine learning, and artificial intelligence, Python has become the go-to language due to its powerful libraries and ease of use in these domains.\n",
        "\n"
      ],
      "metadata": {
        "id": "9kiooIJLjiG8"
      }
    },
    {
      "cell_type": "markdown",
      "source": [
        "2) Ans\n",
        "\n",
        "keywords are the predefined words that hold a special meaning and have specific purpose in python programming.For example given below"
      ],
      "metadata": {
        "id": "wKDXcVk2jtfv"
      }
    },
    {
      "cell_type": "markdown",
      "source": [
        "a)  Control Flow: Keywords like if, else, elif, for, and while are essential for controlling the flow of a program."
      ],
      "metadata": {
        "id": "gqM7o8Clm0ec"
      }
    },
    {
      "cell_type": "code",
      "execution_count": null,
      "metadata": {
        "colab": {
          "base_uri": "https://localhost:8080/"
        },
        "id": "9JyZpnhOiK6j",
        "outputId": "7508a82b-4f7c-40c7-8af8-8e81634f1542"
      },
      "outputs": [
        {
          "output_type": "stream",
          "name": "stdout",
          "text": [
            "Condition is True\n"
          ]
        }
      ],
      "source": [
        "#if statement\n",
        "a=2\n",
        "b=3\n",
        "if (b>=a):\n",
        "     print(\"Condition is True\")\n"
      ]
    },
    {
      "cell_type": "code",
      "source": [
        "#if-else statement\n",
        "if a>=b:\n",
        "    print(\"True\")\n",
        "else:\n",
        "    print(\"False\")\n"
      ],
      "metadata": {
        "colab": {
          "base_uri": "https://localhost:8080/"
        },
        "id": "MnzanshpjaW4",
        "outputId": "aaba7c83-0879-4082-c1a7-2419874633a4"
      },
      "execution_count": null,
      "outputs": [
        {
          "output_type": "stream",
          "name": "stdout",
          "text": [
            "False\n"
          ]
        }
      ]
    },
    {
      "cell_type": "code",
      "source": [
        "if a==b:\n",
        "    print(\"a is equa to b\")\n",
        "elif a<=b:\n",
        "    print(\"a is less than b\")\n"
      ],
      "metadata": {
        "colab": {
          "base_uri": "https://localhost:8080/"
        },
        "id": "06Rh9laxoeTO",
        "outputId": "3495c877-4a6a-4a1a-8bae-c6b77ff3e2db"
      },
      "execution_count": null,
      "outputs": [
        {
          "output_type": "stream",
          "name": "stdout",
          "text": [
            "a is less than b\n"
          ]
        }
      ]
    },
    {
      "cell_type": "code",
      "source": [
        "for i in range(5):\n",
        "    print(i)\n"
      ],
      "metadata": {
        "colab": {
          "base_uri": "https://localhost:8080/"
        },
        "id": "6p5Q-zkkqF1W",
        "outputId": "35affc27-3399-4772-d236-346475a74282"
      },
      "execution_count": null,
      "outputs": [
        {
          "output_type": "stream",
          "name": "stdout",
          "text": [
            "0\n",
            "1\n",
            "2\n",
            "3\n",
            "4\n"
          ]
        }
      ]
    },
    {
      "cell_type": "code",
      "source": [
        "n=5\n",
        "i=1\n",
        "while n>i:\n",
        "    print(i)\n",
        "    i=i+1"
      ],
      "metadata": {
        "colab": {
          "base_uri": "https://localhost:8080/"
        },
        "id": "ptaTYvYRqFhv",
        "outputId": "c8fae7ba-0421-49c5-a552-984ef93529c7"
      },
      "execution_count": null,
      "outputs": [
        {
          "output_type": "stream",
          "name": "stdout",
          "text": [
            "1\n",
            "2\n",
            "3\n",
            "4\n"
          ]
        }
      ]
    },
    {
      "cell_type": "markdown",
      "source": [
        "b) Boolean Values and None: Keywords like True, False, and None are used to represent Boolean values and the absence of a value, respectively. They play a vital role in logical operations and control structures."
      ],
      "metadata": {
        "id": "ZIwXhZGLrGE3"
      }
    },
    {
      "cell_type": "code",
      "source": [],
      "metadata": {
        "id": "VtV_359Ur1WL"
      },
      "execution_count": null,
      "outputs": []
    },
    {
      "cell_type": "code",
      "source": [
        "is_active = True\n",
        "data = None\n"
      ],
      "metadata": {
        "id": "6DgLTgJDqAPM"
      },
      "execution_count": null,
      "outputs": []
    },
    {
      "cell_type": "markdown",
      "source": [
        "c) return"
      ],
      "metadata": {
        "id": "TtcPYTFQr1oD"
      }
    },
    {
      "cell_type": "code",
      "source": [
        "a=2\n",
        "b=3\n",
        "def add(a, b):\n",
        "    return a + b\n"
      ],
      "metadata": {
        "id": "q2BuGYeDsBey"
      },
      "execution_count": null,
      "outputs": []
    },
    {
      "cell_type": "code",
      "source": [
        "help('keywords')"
      ],
      "metadata": {
        "colab": {
          "base_uri": "https://localhost:8080/"
        },
        "id": "awKCXqVvsiS2",
        "outputId": "57d89a30-6031-4260-e1ca-8e9432cc2fda"
      },
      "execution_count": null,
      "outputs": [
        {
          "output_type": "stream",
          "name": "stdout",
          "text": [
            "\n",
            "Here is a list of the Python keywords.  Enter any keyword to get more help.\n",
            "\n",
            "False               class               from                or\n",
            "None                continue            global              pass\n",
            "True                def                 if                  raise\n",
            "and                 del                 import              return\n",
            "as                  elif                in                  try\n",
            "assert              else                is                  while\n",
            "async               except              lambda              with\n",
            "await               finally             nonlocal            yield\n",
            "break               for                 not                 \n",
            "\n"
          ]
        }
      ]
    },
    {
      "cell_type": "markdown",
      "source": [
        "3) Ans\n",
        "\n",
        "  a) Mutable objects can be modified after their creation. This means you can change their content without changing their identity.\n",
        "\n",
        "Examples: Lists, dictionaries, sets."
      ],
      "metadata": {
        "id": "cqG9yOK7st08"
      }
    },
    {
      "cell_type": "code",
      "source": [
        "lists = [\"abhijeet\", 1, 2, 2.5, 3+8j ]\n",
        "set = {\"palai\",25, 55, 5.5,2+4j }\n",
        "dict = {\"name\":\"abhijeet\",\"age\":24,\"city\":\"pune\"}\n"
      ],
      "metadata": {
        "id": "z7t9qsTpGYh2"
      },
      "execution_count": null,
      "outputs": []
    },
    {
      "cell_type": "code",
      "source": [
        "lists[0]"
      ],
      "metadata": {
        "colab": {
          "base_uri": "https://localhost:8080/",
          "height": 36
        },
        "id": "1MNXAn9nH0og",
        "outputId": "08f50dba-db80-42c2-b831-0e0133dbc4e9"
      },
      "execution_count": null,
      "outputs": [
        {
          "output_type": "execute_result",
          "data": {
            "text/plain": [
              "'abhijeet'"
            ],
            "application/vnd.google.colaboratory.intrinsic+json": {
              "type": "string"
            }
          },
          "metadata": {},
          "execution_count": 5
        }
      ]
    },
    {
      "cell_type": "code",
      "source": [
        "lists[0]=\"ashit\" #list are mutable we change any value\n",
        "lists"
      ],
      "metadata": {
        "colab": {
          "base_uri": "https://localhost:8080/"
        },
        "id": "CC6njA_yICYg",
        "outputId": "fd350c43-bb41-4a06-b651-f63f16612183"
      },
      "execution_count": null,
      "outputs": [
        {
          "output_type": "execute_result",
          "data": {
            "text/plain": [
              "['ashit', 1, 2, 2.5, (3+8j)]"
            ]
          },
          "metadata": {},
          "execution_count": 7
        }
      ]
    },
    {
      "cell_type": "code",
      "source": [
        "set"
      ],
      "metadata": {
        "colab": {
          "base_uri": "https://localhost:8080/"
        },
        "id": "UhiwUffoIQts",
        "outputId": "7d3aa75d-7bb8-46ad-88fa-af68e2005e3f"
      },
      "execution_count": null,
      "outputs": [
        {
          "output_type": "execute_result",
          "data": {
            "text/plain": [
              "{(2+4j), 25, 5.5, 55, 'palai'}"
            ]
          },
          "metadata": {},
          "execution_count": 9
        }
      ]
    },
    {
      "cell_type": "code",
      "source": [
        "set.add(\"ashit\")#set are mutable we can change any value\n",
        "set"
      ],
      "metadata": {
        "colab": {
          "base_uri": "https://localhost:8080/"
        },
        "id": "R_r3RtOcIl_b",
        "outputId": "8e0b3550-22a4-489a-cab2-6211826f16da"
      },
      "execution_count": null,
      "outputs": [
        {
          "output_type": "execute_result",
          "data": {
            "text/plain": [
              "{(2+4j), 25, 5.5, 55, 'ashit', 'palai'}"
            ]
          },
          "metadata": {},
          "execution_count": 11
        }
      ]
    },
    {
      "cell_type": "code",
      "source": [
        "dict"
      ],
      "metadata": {
        "colab": {
          "base_uri": "https://localhost:8080/"
        },
        "id": "6fRqXoWII0en",
        "outputId": "0b042d0f-f9cf-447f-e9c0-a8a8ba7387c6"
      },
      "execution_count": null,
      "outputs": [
        {
          "output_type": "execute_result",
          "data": {
            "text/plain": [
              "{'name': 'abhijeet', 'age': 24, 'city': 'pune'}"
            ]
          },
          "metadata": {},
          "execution_count": 13
        }
      ]
    },
    {
      "cell_type": "code",
      "source": [
        "dict[\"name\"]"
      ],
      "metadata": {
        "colab": {
          "base_uri": "https://localhost:8080/",
          "height": 36
        },
        "id": "jceRsQl5I9_D",
        "outputId": "1a3134f0-a758-43c0-99db-22698967dad0"
      },
      "execution_count": null,
      "outputs": [
        {
          "output_type": "execute_result",
          "data": {
            "text/plain": [
              "'abhijeet'"
            ],
            "application/vnd.google.colaboratory.intrinsic+json": {
              "type": "string"
            }
          },
          "metadata": {},
          "execution_count": 16
        }
      ]
    },
    {
      "cell_type": "code",
      "source": [
        "dict[\"name\"]=\"ashit\"\n",
        "dict"
      ],
      "metadata": {
        "colab": {
          "base_uri": "https://localhost:8080/"
        },
        "id": "GIsWmBZfJe_5",
        "outputId": "304956a3-856a-4a19-e24f-80b1f88fdcf1"
      },
      "execution_count": null,
      "outputs": [
        {
          "output_type": "execute_result",
          "data": {
            "text/plain": [
              "{'name': 'ashit', 'age': 24, 'city': 'pune'}"
            ]
          },
          "metadata": {},
          "execution_count": 17
        }
      ]
    },
    {
      "cell_type": "markdown",
      "source": [
        "3)ans\n",
        "\n",
        " b) Immutable objects cannot be changed after they are created. Any modification results in the creation of a new object.\n",
        "\n",
        "Examples: Strings, tuples, frozensets."
      ],
      "metadata": {
        "id": "vkrfEXSLJ8_r"
      }
    },
    {
      "cell_type": "code",
      "source": [
        "string = \"abhijeet\"\n",
        "string"
      ],
      "metadata": {
        "colab": {
          "base_uri": "https://localhost:8080/",
          "height": 36
        },
        "id": "frjyXqWxKKMG",
        "outputId": "55feadbe-3e7c-4903-b15f-9bfb7d5e0b1d"
      },
      "execution_count": null,
      "outputs": [
        {
          "output_type": "execute_result",
          "data": {
            "text/plain": [
              "'abhijeet'"
            ],
            "application/vnd.google.colaboratory.intrinsic+json": {
              "type": "string"
            }
          },
          "metadata": {},
          "execution_count": 19
        }
      ]
    },
    {
      "cell_type": "code",
      "source": [
        "string[0]"
      ],
      "metadata": {
        "colab": {
          "base_uri": "https://localhost:8080/",
          "height": 36
        },
        "id": "72C3k9jpSYLf",
        "outputId": "83aafe56-b9c2-4d70-a430-1ef47843a471"
      },
      "execution_count": null,
      "outputs": [
        {
          "output_type": "execute_result",
          "data": {
            "text/plain": [
              "'a'"
            ],
            "application/vnd.google.colaboratory.intrinsic+json": {
              "type": "string"
            }
          },
          "metadata": {},
          "execution_count": 21
        }
      ]
    },
    {
      "cell_type": "code",
      "source": [
        "#string are immutable we cannot assign or change any present character in string\n",
        "string[0]= \"p\"\n",
        "\n",
        "string"
      ],
      "metadata": {
        "colab": {
          "base_uri": "https://localhost:8080/",
          "height": 158
        },
        "id": "_WJH9DkySf-c",
        "outputId": "835da22c-a9fd-461b-f417-19fe6fa6b595"
      },
      "execution_count": null,
      "outputs": [
        {
          "output_type": "error",
          "ename": "TypeError",
          "evalue": "'str' object does not support item assignment",
          "traceback": [
            "\u001b[0;31m---------------------------------------------------------------------------\u001b[0m",
            "\u001b[0;31mTypeError\u001b[0m                                 Traceback (most recent call last)",
            "\u001b[0;32m<ipython-input-25-525b4bf0458b>\u001b[0m in \u001b[0;36m<cell line: 1>\u001b[0;34m()\u001b[0m\n\u001b[0;32m----> 1\u001b[0;31m \u001b[0mstring\u001b[0m\u001b[0;34m[\u001b[0m\u001b[0;36m0\u001b[0m\u001b[0;34m]\u001b[0m\u001b[0;34m=\u001b[0m \u001b[0;34m\"p\"\u001b[0m \u001b[0;31m#string are immutable we cannot change any character present in string\u001b[0m\u001b[0;34m\u001b[0m\u001b[0;34m\u001b[0m\u001b[0m\n\u001b[0m\u001b[1;32m      2\u001b[0m \u001b[0mstring\u001b[0m\u001b[0;34m\u001b[0m\u001b[0;34m\u001b[0m\u001b[0m\n",
            "\u001b[0;31mTypeError\u001b[0m: 'str' object does not support item assignment"
          ]
        }
      ]
    },
    {
      "cell_type": "code",
      "source": [
        "tuples = (\"abhijeet\", 2, 2.2, 2+2j)\n",
        "tuples"
      ],
      "metadata": {
        "colab": {
          "base_uri": "https://localhost:8080/"
        },
        "id": "xtwhN9wbTPyO",
        "outputId": "167fb4a5-d50d-4dec-8535-a14318a901d0"
      },
      "execution_count": null,
      "outputs": [
        {
          "output_type": "execute_result",
          "data": {
            "text/plain": [
              "('abhijeet', 2, 2.2, (2+2j))"
            ]
          },
          "metadata": {},
          "execution_count": 28
        }
      ]
    },
    {
      "cell_type": "code",
      "source": [
        "tuples[3]"
      ],
      "metadata": {
        "colab": {
          "base_uri": "https://localhost:8080/"
        },
        "id": "F7bI6pznT5pL",
        "outputId": "d86f268f-4a0f-4989-955c-4b2a47c761cb"
      },
      "execution_count": null,
      "outputs": [
        {
          "output_type": "execute_result",
          "data": {
            "text/plain": [
              "(2+2j)"
            ]
          },
          "metadata": {},
          "execution_count": 30
        }
      ]
    },
    {
      "cell_type": "code",
      "source": [
        "#tuples are immutable\n",
        "tuples[3] =\"ashit\"\n",
        "tuples"
      ],
      "metadata": {
        "colab": {
          "base_uri": "https://localhost:8080/",
          "height": 176
        },
        "id": "-t7rtd5lUCMf",
        "outputId": "ac11173e-6ee0-4f72-86bb-d68f8413a48f"
      },
      "execution_count": null,
      "outputs": [
        {
          "output_type": "error",
          "ename": "TypeError",
          "evalue": "'tuple' object does not support item assignment",
          "traceback": [
            "\u001b[0;31m---------------------------------------------------------------------------\u001b[0m",
            "\u001b[0;31mTypeError\u001b[0m                                 Traceback (most recent call last)",
            "\u001b[0;32m<ipython-input-32-4656447fc8e4>\u001b[0m in \u001b[0;36m<cell line: 2>\u001b[0;34m()\u001b[0m\n\u001b[1;32m      1\u001b[0m \u001b[0;31m#tuples are immutable\u001b[0m\u001b[0;34m\u001b[0m\u001b[0;34m\u001b[0m\u001b[0m\n\u001b[0;32m----> 2\u001b[0;31m \u001b[0mtuples\u001b[0m\u001b[0;34m[\u001b[0m\u001b[0;36m3\u001b[0m\u001b[0;34m]\u001b[0m \u001b[0;34m=\u001b[0m \u001b[0;34m\"ashit\"\u001b[0m\u001b[0;34m\u001b[0m\u001b[0;34m\u001b[0m\u001b[0m\n\u001b[0m\u001b[1;32m      3\u001b[0m \u001b[0mtuples\u001b[0m\u001b[0;34m\u001b[0m\u001b[0;34m\u001b[0m\u001b[0m\n",
            "\u001b[0;31mTypeError\u001b[0m: 'tuple' object does not support item assignment"
          ]
        }
      ]
    },
    {
      "cell_type": "code",
      "source": [
        "#frozensets are immutable\n",
        "frozen_sets = frozenset([\"abhijeet\", 2, 2.2, 2+2j])\n",
        "frozen_sets"
      ],
      "metadata": {
        "colab": {
          "base_uri": "https://localhost:8080/"
        },
        "id": "T5x4zBgdUU-s",
        "outputId": "26c2dc64-aa65-4884-a829-a588c65a632e"
      },
      "execution_count": null,
      "outputs": [
        {
          "output_type": "execute_result",
          "data": {
            "text/plain": [
              "frozenset({(2+2j), 2, 2.2, 'abhijeet'})"
            ]
          },
          "metadata": {},
          "execution_count": 35
        }
      ]
    },
    {
      "cell_type": "code",
      "source": [
        "frozen_sets.add(\"ashit\")\n"
      ],
      "metadata": {
        "colab": {
          "base_uri": "https://localhost:8080/",
          "height": 141
        },
        "id": "zVjJgLmwU8Io",
        "outputId": "d96ee1e5-cd3e-4ce2-c468-f4580e276444"
      },
      "execution_count": null,
      "outputs": [
        {
          "output_type": "error",
          "ename": "AttributeError",
          "evalue": "'frozenset' object has no attribute 'add'",
          "traceback": [
            "\u001b[0;31m---------------------------------------------------------------------------\u001b[0m",
            "\u001b[0;31mAttributeError\u001b[0m                            Traceback (most recent call last)",
            "\u001b[0;32m<ipython-input-43-42b22279b311>\u001b[0m in \u001b[0;36m<cell line: 1>\u001b[0;34m()\u001b[0m\n\u001b[0;32m----> 1\u001b[0;31m \u001b[0mfrozen_sets\u001b[0m\u001b[0;34m.\u001b[0m\u001b[0madd\u001b[0m\u001b[0;34m(\u001b[0m\u001b[0;34m\"ashit\"\u001b[0m\u001b[0;34m)\u001b[0m\u001b[0;34m\u001b[0m\u001b[0;34m\u001b[0m\u001b[0m\n\u001b[0m",
            "\u001b[0;31mAttributeError\u001b[0m: 'frozenset' object has no attribute 'add'"
          ]
        }
      ]
    },
    {
      "cell_type": "markdown",
      "source": [
        "4) Ans   \n",
        "\n",
        "  Different types of operators and with their example below"
      ],
      "metadata": {
        "id": "XBU9pU-ZVuyE"
      }
    },
    {
      "cell_type": "markdown",
      "source": [
        "a) Assginment Operators"
      ],
      "metadata": {
        "id": "WFqkZYNAXCzS"
      }
    },
    {
      "cell_type": "code",
      "source": [
        "a=2\n",
        "b=3\n",
        "print(a+b) #addition\n",
        "print(a-b) #subtraction\n",
        "print(a*b) #multiplication\n",
        "print(a/b) #division\n",
        "print(a%b) #modulus\n",
        "print(a**b) #exponentiation\n",
        "\n"
      ],
      "metadata": {
        "colab": {
          "base_uri": "https://localhost:8080/"
        },
        "id": "Ft15AyGlVf3G",
        "outputId": "84d247cd-58e9-458b-d0ad-0db98fb4cc10"
      },
      "execution_count": null,
      "outputs": [
        {
          "output_type": "stream",
          "name": "stdout",
          "text": [
            "5\n",
            "-1\n",
            "6\n",
            "0.6666666666666666\n",
            "2\n",
            "8\n"
          ]
        }
      ]
    },
    {
      "cell_type": "markdown",
      "source": [
        "b) Floor operator"
      ],
      "metadata": {
        "id": "1087AD3wYlZN"
      }
    },
    {
      "cell_type": "code",
      "source": [
        "print(a//b) #floor division"
      ],
      "metadata": {
        "colab": {
          "base_uri": "https://localhost:8080/"
        },
        "id": "m33WkOlVYyVL",
        "outputId": "481fa245-3c77-4990-91e4-396f2d80de6d"
      },
      "execution_count": null,
      "outputs": [
        {
          "output_type": "stream",
          "name": "stdout",
          "text": [
            "0\n"
          ]
        }
      ]
    },
    {
      "cell_type": "markdown",
      "source": [
        "c) Comparison operator"
      ],
      "metadata": {
        "id": "VKWblhKDZaCM"
      }
    },
    {
      "cell_type": "code",
      "source": [
        "2==3 #equal to"
      ],
      "metadata": {
        "colab": {
          "base_uri": "https://localhost:8080/"
        },
        "id": "3p3zEu7sZjrl",
        "outputId": "37a76e78-9d17-4441-f461-44a955f216d9"
      },
      "execution_count": null,
      "outputs": [
        {
          "output_type": "execute_result",
          "data": {
            "text/plain": [
              "False"
            ]
          },
          "metadata": {},
          "execution_count": 51
        }
      ]
    },
    {
      "cell_type": "code",
      "source": [
        "2!=3 #not equal to"
      ],
      "metadata": {
        "colab": {
          "base_uri": "https://localhost:8080/"
        },
        "id": "oWzwsVewZsLn",
        "outputId": "6cfba7d7-4f03-4b77-ef6e-0a6e0ca253a4"
      },
      "execution_count": null,
      "outputs": [
        {
          "output_type": "execute_result",
          "data": {
            "text/plain": [
              "True"
            ]
          },
          "metadata": {},
          "execution_count": 52
        }
      ]
    },
    {
      "cell_type": "markdown",
      "source": [
        "d) Logical operator\n",
        "   '''logical AND,\n",
        "   logical OR,\n",
        "   logical NOT'''\n",
        "\n"
      ],
      "metadata": {
        "id": "D1pes9ogZ0PG"
      }
    },
    {
      "cell_type": "code",
      "source": [
        "True-False"
      ],
      "metadata": {
        "colab": {
          "base_uri": "https://localhost:8080/"
        },
        "id": "lXjMcsSmaUm_",
        "outputId": "2bb626f9-aac2-46a9-cd20-681f71437e2e"
      },
      "execution_count": null,
      "outputs": [
        {
          "output_type": "execute_result",
          "data": {
            "text/plain": [
              "1"
            ]
          },
          "metadata": {},
          "execution_count": 55
        }
      ]
    },
    {
      "cell_type": "code",
      "source": [
        "True and False"
      ],
      "metadata": {
        "colab": {
          "base_uri": "https://localhost:8080/"
        },
        "id": "_3Rig-vIabg8",
        "outputId": "11323ec3-e009-407f-dc9e-5c8d67eddd33"
      },
      "execution_count": null,
      "outputs": [
        {
          "output_type": "execute_result",
          "data": {
            "text/plain": [
              "False"
            ]
          },
          "metadata": {},
          "execution_count": 56
        }
      ]
    },
    {
      "cell_type": "code",
      "source": [
        "not True"
      ],
      "metadata": {
        "colab": {
          "base_uri": "https://localhost:8080/"
        },
        "id": "WJoR2P83bPdC",
        "outputId": "d0a2971a-f98e-4a22-c2df-ed97f15bebb0"
      },
      "execution_count": null,
      "outputs": [
        {
          "output_type": "execute_result",
          "data": {
            "text/plain": [
              "False"
            ]
          },
          "metadata": {},
          "execution_count": 57
        }
      ]
    },
    {
      "cell_type": "markdown",
      "source": [
        "e) Membership operator"
      ],
      "metadata": {
        "id": "G3FMycQJbU6a"
      }
    },
    {
      "cell_type": "code",
      "source": [
        "name = \"abhijeet\"\n",
        "\"a\" in name"
      ],
      "metadata": {
        "colab": {
          "base_uri": "https://localhost:8080/"
        },
        "id": "C-ic7mm3bke5",
        "outputId": "df302ae8-b9a9-4762-a9cf-6f4473a59882"
      },
      "execution_count": null,
      "outputs": [
        {
          "output_type": "execute_result",
          "data": {
            "text/plain": [
              "True"
            ]
          },
          "metadata": {},
          "execution_count": 58
        }
      ]
    },
    {
      "cell_type": "code",
      "source": [
        "\"a\" not in name"
      ],
      "metadata": {
        "colab": {
          "base_uri": "https://localhost:8080/"
        },
        "id": "tAigEx_Tbv6U",
        "outputId": "5053be53-4a27-472b-bdd4-5086145a1978"
      },
      "execution_count": null,
      "outputs": [
        {
          "output_type": "execute_result",
          "data": {
            "text/plain": [
              "False"
            ]
          },
          "metadata": {},
          "execution_count": 60
        }
      ]
    },
    {
      "cell_type": "markdown",
      "source": [
        "f) Identitity operator"
      ],
      "metadata": {
        "id": "SJ6hUYvdcGkd"
      }
    },
    {
      "cell_type": "code",
      "source": [
        "a=2\n",
        "b=2\n",
        "a is b"
      ],
      "metadata": {
        "colab": {
          "base_uri": "https://localhost:8080/"
        },
        "id": "i4yTThR_cTSu",
        "outputId": "5f357ef5-6d6f-45c6-8918-1f1fb5037a30"
      },
      "execution_count": null,
      "outputs": [
        {
          "output_type": "execute_result",
          "data": {
            "text/plain": [
              "True"
            ]
          },
          "metadata": {},
          "execution_count": 63
        }
      ]
    },
    {
      "cell_type": "code",
      "source": [
        "a=2\n",
        "b=3\n",
        "a is b"
      ],
      "metadata": {
        "colab": {
          "base_uri": "https://localhost:8080/"
        },
        "id": "jfVUqObUc0W-",
        "outputId": "24a25c0a-9769-4d03-c4c6-3e1c6e179b71"
      },
      "execution_count": null,
      "outputs": [
        {
          "output_type": "execute_result",
          "data": {
            "text/plain": [
              "False"
            ]
          },
          "metadata": {},
          "execution_count": 64
        }
      ]
    },
    {
      "cell_type": "markdown",
      "source": [
        "g) Bitwise operator (&, |, ~, ^, XOR)"
      ],
      "metadata": {
        "id": "8qWCvAoXc9Qr"
      }
    },
    {
      "cell_type": "code",
      "source": [
        "18&3 #bitwise and operator"
      ],
      "metadata": {
        "colab": {
          "base_uri": "https://localhost:8080/"
        },
        "id": "GsfUie92dZlT",
        "outputId": "32d376fb-607f-46be-91e4-173d6b5adcff"
      },
      "execution_count": null,
      "outputs": [
        {
          "output_type": "execute_result",
          "data": {
            "text/plain": [
              "2"
            ]
          },
          "metadata": {},
          "execution_count": 69
        }
      ]
    },
    {
      "cell_type": "code",
      "source": [
        "3|5 #bitwise OR operator"
      ],
      "metadata": {
        "colab": {
          "base_uri": "https://localhost:8080/"
        },
        "id": "Hfuhs9xUdxWY",
        "outputId": "dfc0f9aa-945d-408c-8a29-b2c910480c33"
      },
      "execution_count": null,
      "outputs": [
        {
          "output_type": "execute_result",
          "data": {
            "text/plain": [
              "7"
            ]
          },
          "metadata": {},
          "execution_count": 71
        }
      ]
    },
    {
      "cell_type": "code",
      "source": [
        "~5 #negation"
      ],
      "metadata": {
        "colab": {
          "base_uri": "https://localhost:8080/"
        },
        "id": "kgtt9DNKd3In",
        "outputId": "0c29a6ba-9fb8-4448-c671-caf863c8aef6"
      },
      "execution_count": null,
      "outputs": [
        {
          "output_type": "execute_result",
          "data": {
            "text/plain": [
              "-6"
            ]
          },
          "metadata": {},
          "execution_count": 73
        }
      ]
    },
    {
      "cell_type": "code",
      "source": [
        "5^10 #bitwise XOR operator"
      ],
      "metadata": {
        "colab": {
          "base_uri": "https://localhost:8080/"
        },
        "id": "1tfhV8VYeAgY",
        "outputId": "bcff8e4c-ed5a-453f-b109-2c872c0b5229"
      },
      "execution_count": null,
      "outputs": [
        {
          "output_type": "execute_result",
          "data": {
            "text/plain": [
              "15"
            ]
          },
          "metadata": {},
          "execution_count": 74
        }
      ]
    },
    {
      "cell_type": "markdown",
      "source": [
        "h) Shift operator"
      ],
      "metadata": {
        "id": "2NkQr-8iepqM"
      }
    },
    {
      "cell_type": "code",
      "source": [
        "35<<3 #left shift"
      ],
      "metadata": {
        "colab": {
          "base_uri": "https://localhost:8080/"
        },
        "id": "2fq-1pmGewG2",
        "outputId": "c87bc84b-145a-46b2-9ae3-8ee013448074"
      },
      "execution_count": null,
      "outputs": [
        {
          "output_type": "execute_result",
          "data": {
            "text/plain": [
              "280"
            ]
          },
          "metadata": {},
          "execution_count": 76
        }
      ]
    },
    {
      "cell_type": "code",
      "source": [
        "280>>3 #right shift"
      ],
      "metadata": {
        "colab": {
          "base_uri": "https://localhost:8080/"
        },
        "id": "IbWYDTUFe21J",
        "outputId": "973af553-524b-4ffa-d5e9-b0a9ca2c2fc4"
      },
      "execution_count": null,
      "outputs": [
        {
          "output_type": "execute_result",
          "data": {
            "text/plain": [
              "35"
            ]
          },
          "metadata": {},
          "execution_count": 77
        }
      ]
    },
    {
      "cell_type": "markdown",
      "source": [
        "5)Ans\n",
        "\n",
        "Type casting in Python refers to the process of converting one data type into another.\n",
        "\n",
        "\n",
        "There are two types of type casting:\n",
        "\n",
        " a) Implicit type casting\n",
        "\n",
        " b) Explicit type casting"
      ],
      "metadata": {
        "id": "eMlhh85YfD1p"
      }
    },
    {
      "cell_type": "markdown",
      "source": [
        "a) Implicit type casting"
      ],
      "metadata": {
        "id": "sh9QcvGBuOKU"
      }
    },
    {
      "cell_type": "code",
      "source": [
        "a=2\n",
        "b=2.5\n",
        "c=a+b\n",
        "print(c)\n",
        "print(type(c))"
      ],
      "metadata": {
        "colab": {
          "base_uri": "https://localhost:8080/"
        },
        "id": "6IyZvKQvuW0-",
        "outputId": "0a0e754f-420e-49bf-95f7-104a48594265"
      },
      "execution_count": null,
      "outputs": [
        {
          "output_type": "stream",
          "name": "stdout",
          "text": [
            "4.5\n",
            "<class 'float'>\n"
          ]
        }
      ]
    },
    {
      "cell_type": "markdown",
      "source": [
        "b) Explicit type casting"
      ],
      "metadata": {
        "id": "bRKfef2Wu8cl"
      }
    },
    {
      "cell_type": "code",
      "source": [
        "a = 3\n",
        "type(a)\n",
        "int(a)\n"
      ],
      "metadata": {
        "colab": {
          "base_uri": "https://localhost:8080/"
        },
        "id": "YjBWWPiOu3-_",
        "outputId": "4222f66d-a622-4205-9439-c06eeac48e40"
      },
      "execution_count": null,
      "outputs": [
        {
          "output_type": "execute_result",
          "data": {
            "text/plain": [
              "3"
            ]
          },
          "metadata": {},
          "execution_count": 82
        }
      ]
    },
    {
      "cell_type": "code",
      "source": [
        "float(a)"
      ],
      "metadata": {
        "colab": {
          "base_uri": "https://localhost:8080/"
        },
        "id": "k1sh-FvrvpNH",
        "outputId": "4fcfedcd-78e9-4971-f250-07c65f0ba6d0"
      },
      "execution_count": null,
      "outputs": [
        {
          "output_type": "execute_result",
          "data": {
            "text/plain": [
              "3.0"
            ]
          },
          "metadata": {},
          "execution_count": 90
        }
      ]
    },
    {
      "cell_type": "code",
      "source": [
        "bool(a)"
      ],
      "metadata": {
        "colab": {
          "base_uri": "https://localhost:8080/"
        },
        "id": "bDw8ikW_vyBx",
        "outputId": "9ede993c-fa43-4dc3-e636-02cd96c4d447"
      },
      "execution_count": null,
      "outputs": [
        {
          "output_type": "execute_result",
          "data": {
            "text/plain": [
              "True"
            ]
          },
          "metadata": {},
          "execution_count": 91
        }
      ]
    },
    {
      "cell_type": "code",
      "source": [
        "str(a)"
      ],
      "metadata": {
        "colab": {
          "base_uri": "https://localhost:8080/",
          "height": 36
        },
        "id": "nqw286pzv2JH",
        "outputId": "2e4bd631-0164-4db9-f2b2-aecd0177be00"
      },
      "execution_count": null,
      "outputs": [
        {
          "output_type": "execute_result",
          "data": {
            "text/plain": [
              "'3'"
            ],
            "application/vnd.google.colaboratory.intrinsic+json": {
              "type": "string"
            }
          },
          "metadata": {},
          "execution_count": 89
        }
      ]
    },
    {
      "cell_type": "code",
      "source": [
        "complex(a)"
      ],
      "metadata": {
        "colab": {
          "base_uri": "https://localhost:8080/"
        },
        "id": "uSy5n0bqv-OM",
        "outputId": "07b18c01-82d3-4cf4-9c38-4ecf2057f3a8"
      },
      "execution_count": null,
      "outputs": [
        {
          "output_type": "execute_result",
          "data": {
            "text/plain": [
              "(3+0j)"
            ]
          },
          "metadata": {},
          "execution_count": 92
        }
      ]
    },
    {
      "cell_type": "markdown",
      "source": [
        "6)Ans\n",
        "\n",
        " Conditional statements in Python allow you to execute specific blocks of code based on certain conditions. They are fundamental for controlling the flow of a program. The primary conditional statements in Python are if, elif, and else."
      ],
      "metadata": {
        "id": "CzKvwMI9wmmR"
      }
    },
    {
      "cell_type": "code",
      "source": [
        "#if statement\n",
        "\n",
        "a=2\n",
        "b=3\n",
        "if a<b:\n",
        "    print(\"a is greater than b\")"
      ],
      "metadata": {
        "colab": {
          "base_uri": "https://localhost:8080/"
        },
        "id": "JJWB0fkGwwHa",
        "outputId": "bef235b5-4e16-4fe1-ca9f-dc1c6f2437a3"
      },
      "execution_count": null,
      "outputs": [
        {
          "output_type": "stream",
          "name": "stdout",
          "text": [
            "a is greater than b\n"
          ]
        }
      ]
    },
    {
      "cell_type": "code",
      "source": [
        "my_name = \"abhijeet\"\n",
        "if my_name == \"abhijeet\":\n",
        "    print(\"my name is abhijeet\")"
      ],
      "metadata": {
        "colab": {
          "base_uri": "https://localhost:8080/"
        },
        "id": "GadohuMvxWbM",
        "outputId": "e001f1fa-5274-454a-e230-a3961ecb06fe"
      },
      "execution_count": null,
      "outputs": [
        {
          "output_type": "stream",
          "name": "stdout",
          "text": [
            "my name is abhijeet\n"
          ]
        }
      ]
    },
    {
      "cell_type": "code",
      "source": [
        "# if-else\n",
        "name = \"abhijeet\"\n",
        "if name == \"ashit\":\n",
        "  print(\"my name is ashit\")\n",
        "else:\n",
        "  print(\"my name is not ashit\")\n"
      ],
      "metadata": {
        "colab": {
          "base_uri": "https://localhost:8080/"
        },
        "id": "U6U4NjIjxqFW",
        "outputId": "a6a46355-8e4c-4474-ee45-c9bc103a107f"
      },
      "execution_count": null,
      "outputs": [
        {
          "output_type": "stream",
          "name": "stdout",
          "text": [
            "my name is not ashit\n"
          ]
        }
      ]
    },
    {
      "cell_type": "code",
      "source": [
        "#if-elif-else\n",
        "b = 9\n",
        "if b>10:\n",
        "  prrint(\"b is greater than 10\")\n",
        "elif b<10:\n",
        "  print(\"b is less than 10\")\n",
        "else:\n",
        "  print(\"b is equal to 10\")"
      ],
      "metadata": {
        "colab": {
          "base_uri": "https://localhost:8080/"
        },
        "id": "bB4V-PEeyj3O",
        "outputId": "3caa0480-e71e-4b0f-881e-277c483c741e"
      },
      "execution_count": null,
      "outputs": [
        {
          "output_type": "stream",
          "name": "stdout",
          "text": [
            "b is less than 10\n"
          ]
        }
      ]
    },
    {
      "cell_type": "code",
      "source": [
        "#nested if-else\n",
        "x = 1\n",
        "y = 7\n",
        "if x>5:\n",
        "  if y>5:\n",
        "    print(\"both x and y is greater than 5\")\n",
        "  else:\n",
        "    print(\"x is greater than 5 and y is less than 5\")\n",
        "else:\n",
        "  if y>5:\n",
        "    print(\"x is less than 5 and y is greater than 5\")"
      ],
      "metadata": {
        "colab": {
          "base_uri": "https://localhost:8080/"
        },
        "id": "KbI5W51JyzEF",
        "outputId": "f1a2319e-b729-4092-898c-4e5b10057da2"
      },
      "execution_count": null,
      "outputs": [
        {
          "output_type": "stream",
          "name": "stdout",
          "text": [
            "x is less than 5 and y is greater than 5\n"
          ]
        }
      ]
    },
    {
      "cell_type": "markdown",
      "source": [
        "7)Ans\n",
        "\n",
        "In Python, loops are used to execute a block of code repeatedly until a specified condition is met. The two primary types of loops in Python are for loops and while loops. Here’s an overview of each type, along with their use cases and examples."
      ],
      "metadata": {
        "id": "cG9RmsME1SCn"
      }
    },
    {
      "cell_type": "markdown",
      "source": [
        "a) For Loop\n",
        "\n",
        "  The for loop is used to iterate over a sequence (like a list, tuple, string, or range). It executes the loop body for each element in the sequence.\n",
        "\n",
        "Use Case: for loops are useful when you know the number of iterations in advance or when you need to process each item in a collection."
      ],
      "metadata": {
        "id": "JSTbfRM92B5e"
      }
    },
    {
      "cell_type": "code",
      "source": [
        "name = \"abhijeet\"\n",
        "for i in name:\n",
        "  print(i)"
      ],
      "metadata": {
        "colab": {
          "base_uri": "https://localhost:8080/"
        },
        "id": "3Twv4Vyi2BNu",
        "outputId": "6b27e146-1d0a-419f-c17b-300bc4fd0b87"
      },
      "execution_count": null,
      "outputs": [
        {
          "output_type": "stream",
          "name": "stdout",
          "text": [
            "a\n",
            "b\n",
            "h\n",
            "i\n",
            "j\n",
            "e\n",
            "e\n",
            "t\n"
          ]
        }
      ]
    },
    {
      "cell_type": "markdown",
      "source": [
        "b) While loop\n",
        "\n",
        "   The while loop repeatedly executes a block of code as long as a specified condition is True. It’s used when the number of iterations is not known beforehand.\n",
        "\n",
        "Use Case: while loops are useful for situations where you want to continue looping until a condition changes (e.g., user input, or until a certain state is reached)."
      ],
      "metadata": {
        "id": "1YudpnMO2mb8"
      }
    },
    {
      "cell_type": "code",
      "source": [
        "num = 7\n",
        "while num > 0:\n",
        "  print(num)\n",
        "  num = num - 1"
      ],
      "metadata": {
        "colab": {
          "base_uri": "https://localhost:8080/"
        },
        "id": "0x12CiN821Iu",
        "outputId": "a896acfc-007b-4cd6-9f42-316cffd59539"
      },
      "execution_count": null,
      "outputs": [
        {
          "output_type": "stream",
          "name": "stdout",
          "text": [
            "7\n",
            "6\n",
            "5\n",
            "4\n",
            "3\n",
            "2\n",
            "1\n"
          ]
        }
      ]
    },
    {
      "cell_type": "markdown",
      "source": [
        "c) Nested loop\n",
        "\n",
        "You can place one loop inside another loop. The inner loop runs completely for each iteration of the outer loop.\n",
        "\n",
        "Use Case: Nested loops are often used for multi-dimensional data structures, like matrices."
      ],
      "metadata": {
        "id": "TmTTY7tV3XMD"
      }
    },
    {
      "cell_type": "code",
      "source": [
        "# Example of nested loops\n",
        "for i in range(3):  # Outer loop\n",
        "    for j in range(2):  # Inner loop\n",
        "        print(f\"i = {i}, j = {j}\")\n"
      ],
      "metadata": {
        "colab": {
          "base_uri": "https://localhost:8080/"
        },
        "id": "uhSKBzLA3gyX",
        "outputId": "c28e51b8-9906-4656-f561-64ae7dd76dd1"
      },
      "execution_count": null,
      "outputs": [
        {
          "output_type": "stream",
          "name": "stdout",
          "text": [
            "i = 0, j = 0\n",
            "i = 0, j = 1\n",
            "i = 1, j = 0\n",
            "i = 1, j = 1\n",
            "i = 2, j = 0\n",
            "i = 2, j = 1\n"
          ]
        }
      ]
    },
    {
      "cell_type": "markdown",
      "source": [
        "d) Python also provides control statements that can alter the flow of loops:\n",
        "\n",
        "break: Exits the loop immediately.\n",
        "\n",
        "continue: Skips the current iteration and continues with the next iteration."
      ],
      "metadata": {
        "id": "p9wflk5N3xd6"
      }
    },
    {
      "cell_type": "code",
      "source": [
        "#break\n",
        "for i in range(5):\n",
        "    if i == 3:\n",
        "        break\n",
        "    print(i)"
      ],
      "metadata": {
        "colab": {
          "base_uri": "https://localhost:8080/"
        },
        "id": "Jk9cUJS634ak",
        "outputId": "a02bb7f6-60ec-40f8-c2a2-ed2144c650f8"
      },
      "execution_count": null,
      "outputs": [
        {
          "output_type": "stream",
          "name": "stdout",
          "text": [
            "0\n",
            "1\n",
            "2\n"
          ]
        }
      ]
    },
    {
      "cell_type": "code",
      "source": [
        "#continue\n",
        "for i in range(5):\n",
        "    if i == 3:\n",
        "        continue\n",
        "    print(i)"
      ],
      "metadata": {
        "colab": {
          "base_uri": "https://localhost:8080/"
        },
        "id": "nFwQTfp34WpX",
        "outputId": "a623b88a-eef7-451d-e44c-54c05c14b00b"
      },
      "execution_count": null,
      "outputs": [
        {
          "output_type": "stream",
          "name": "stdout",
          "text": [
            "0\n",
            "1\n",
            "2\n",
            "4\n"
          ]
        }
      ]
    }
  ]
}