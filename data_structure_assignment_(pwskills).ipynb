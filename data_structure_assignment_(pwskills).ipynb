{
  "cells": [
    {
      "cell_type": "markdown",
      "metadata": {
        "id": "Q31OkB_33nj_"
      },
      "source": [
        "#Assignment - Data Structure"
      ]
    },
    {
      "cell_type": "markdown",
      "metadata": {
        "id": "M6dc8bUD3mFl"
      },
      "source": [
        "1) Ans\n",
        "\n",
        "String slicing is a technique in Python that allows you to extract a substring from a string by specifying a start index, an end index, and an optional step.\n",
        "\n",
        "syntax:\n",
        "\n",
        "string[start:end:step]"
      ]
    },
    {
      "cell_type": "code",
      "execution_count": null,
      "metadata": {
        "colab": {
          "base_uri": "https://localhost:8080/",
          "height": 36
        },
        "id": "lUVulmZh3iIY",
        "outputId": "7b14b218-bafa-4499-f32f-e5100bfea3d9"
      },
      "outputs": [
        {
          "data": {
            "application/vnd.google.colaboratory.intrinsic+json": {
              "type": "string"
            },
            "text/plain": [
              "'bhij'"
            ]
          },
          "execution_count": 3,
          "metadata": {},
          "output_type": "execute_result"
        }
      ],
      "source": [
        "# examples\n",
        "\n",
        "string1 = \"Abhijeet\"\n",
        "string1[1:5]"
      ]
    },
    {
      "cell_type": "code",
      "execution_count": null,
      "metadata": {
        "colab": {
          "base_uri": "https://localhost:8080/",
          "height": 36
        },
        "id": "nVIhskuU6Hol",
        "outputId": "41f12910-c19c-4523-83d5-f012ab518f5a"
      },
      "outputs": [
        {
          "data": {
            "application/vnd.google.colaboratory.intrinsic+json": {
              "type": "string"
            },
            "text/plain": [
              "'bi'"
            ]
          },
          "execution_count": 5,
          "metadata": {},
          "output_type": "execute_result"
        }
      ],
      "source": [
        "string1[1:5:2]"
      ]
    },
    {
      "cell_type": "code",
      "execution_count": null,
      "metadata": {
        "colab": {
          "base_uri": "https://localhost:8080/",
          "height": 36
        },
        "id": "2s6Jy3Pt6UK8",
        "outputId": "68fd169f-1c71-43e0-ff04-5e6fa86b40bb"
      },
      "outputs": [
        {
          "data": {
            "application/vnd.google.colaboratory.intrinsic+json": {
              "type": "string"
            },
            "text/plain": [
              "'bhijeet'"
            ]
          },
          "execution_count": 7,
          "metadata": {},
          "output_type": "execute_result"
        }
      ],
      "source": [
        "string1[1:]"
      ]
    },
    {
      "cell_type": "code",
      "execution_count": null,
      "metadata": {
        "colab": {
          "base_uri": "https://localhost:8080/",
          "height": 36
        },
        "id": "uNqW6Ybt6bNl",
        "outputId": "b3e0d69e-6b32-444e-dd15-781f64a756e5"
      },
      "outputs": [
        {
          "data": {
            "application/vnd.google.colaboratory.intrinsic+json": {
              "type": "string"
            },
            "text/plain": [
              "'Abhij'"
            ]
          },
          "execution_count": 8,
          "metadata": {},
          "output_type": "execute_result"
        }
      ],
      "source": [
        "string1[:5]"
      ]
    },
    {
      "cell_type": "markdown",
      "metadata": {
        "id": "6buLroas6or6"
      },
      "source": [
        "2) Ans\n",
        "\n",
        " The key features of lists in Python:\n",
        "\n",
        "1. Ordered:\n",
        "Lists maintain the order of elements, meaning that items are stored and accessed in the sequence they were added.\n",
        "2. Mutable\n",
        "Lists can be changed after creation. You can modify, add, or remove elements without creating a new list.\n",
        "3. Dynamic Size\n",
        "Lists can grow and shrink in size as needed. You don’t have to declare their size in advance.\n",
        "4. Heterogeneous Elements\n",
        "A list can contain elements of different data types (e.g., integers, strings, other lists).\n",
        "5. Supports Various Methods\n",
        "Lists come with built-in methods like append(), remove(), pop(), sort(), and reverse(), making manipulation straightforward.\n",
        "6. Nested Lists\n",
        "Lists can contain other lists, allowing for the creation of complex structures like matrices.\n",
        "7. Indexing and Slicing\n",
        "You can access specific elements using indexes and extract sublists using slicing."
      ]
    },
    {
      "cell_type": "code",
      "execution_count": null,
      "metadata": {
        "colab": {
          "base_uri": "https://localhost:8080/"
        },
        "id": "11p9U8Ir7UcB",
        "outputId": "fba2f2c1-c6e2-443e-c665-93e490192b61"
      },
      "outputs": [
        {
          "data": {
            "text/plain": [
              "[1, 2, 3, 4, 5]"
            ]
          },
          "execution_count": 26,
          "metadata": {},
          "output_type": "execute_result"
        }
      ],
      "source": [
        "#Ordered\n",
        "list1=[1,2,3,4,5]\n",
        "list1"
      ]
    },
    {
      "cell_type": "code",
      "execution_count": null,
      "metadata": {
        "colab": {
          "base_uri": "https://localhost:8080/"
        },
        "id": "lXReB0wH-Grt",
        "outputId": "befaefef-00aa-48c5-bbe3-cc6395842ebe"
      },
      "outputs": [
        {
          "data": {
            "text/plain": [
              "[1, 'Abhijeet', 2.5, 3.5j]"
            ]
          },
          "execution_count": 34,
          "metadata": {},
          "output_type": "execute_result"
        }
      ],
      "source": [
        "# list can have heterogenous element\n",
        "list2 = [1,\"Abhijeet\",2.5, 3.5j]\n",
        "list2"
      ]
    },
    {
      "cell_type": "code",
      "execution_count": null,
      "metadata": {
        "colab": {
          "base_uri": "https://localhost:8080/"
        },
        "id": "c_kI7my0_cnc",
        "outputId": "63a7d853-0f84-4f83-bb18-45861fa2f8d6"
      },
      "outputs": [
        {
          "data": {
            "text/plain": [
              "[1, 'Palai', 2.5, 3.5j, 'Palai', 'Ashit']"
            ]
          },
          "execution_count": 39,
          "metadata": {},
          "output_type": "execute_result"
        }
      ],
      "source": [
        "# list can be mutable\n",
        "list2[1] = \"Palai\"\n",
        "list2"
      ]
    },
    {
      "cell_type": "code",
      "execution_count": null,
      "metadata": {
        "colab": {
          "base_uri": "https://localhost:8080/"
        },
        "id": "yPyWyXV5AWKK",
        "outputId": "fb5bff90-1ba8-4966-819d-ad2ec38572f6"
      },
      "outputs": [
        {
          "data": {
            "text/plain": [
              "[1, 2, 3, [4, 5, 6]]"
            ]
          },
          "execution_count": 41,
          "metadata": {},
          "output_type": "execute_result"
        }
      ],
      "source": [
        "# nested list\n",
        "list3 = [1,2,3,[4,5,6]]\n",
        "list3"
      ]
    },
    {
      "cell_type": "code",
      "execution_count": null,
      "metadata": {
        "colab": {
          "base_uri": "https://localhost:8080/"
        },
        "id": "JNr3YjjRAeZa",
        "outputId": "05a25d5e-0b72-4843-bf1c-ace9a46fb784"
      },
      "outputs": [
        {
          "data": {
            "text/plain": [
              "[2, 3]"
            ]
          },
          "execution_count": 42,
          "metadata": {},
          "output_type": "execute_result"
        }
      ],
      "source": [
        "# indexing and slicing of list\n",
        "list3[1:3]"
      ]
    },
    {
      "cell_type": "code",
      "execution_count": null,
      "metadata": {
        "colab": {
          "base_uri": "https://localhost:8080/"
        },
        "id": "88G1VbRhA9ie",
        "outputId": "142edb25-af9f-4084-a03f-620e79d865b8"
      },
      "outputs": [
        {
          "data": {
            "text/plain": [
              "[1, 2, 3, [4, 5, 6], 7]"
            ]
          },
          "execution_count": 44,
          "metadata": {},
          "output_type": "execute_result"
        }
      ],
      "source": [
        "# list support various method\n",
        "list3.append(7)\n",
        "list3"
      ]
    },
    {
      "cell_type": "code",
      "execution_count": null,
      "metadata": {
        "colab": {
          "base_uri": "https://localhost:8080/"
        },
        "id": "TFu31aIWBRoj",
        "outputId": "65455d9d-ef1d-4bc9-dd73-14bffbdd8e60"
      },
      "outputs": [
        {
          "data": {
            "text/plain": [
              "[1, 2, 3, [4, 5, 6]]"
            ]
          },
          "execution_count": 45,
          "metadata": {},
          "output_type": "execute_result"
        }
      ],
      "source": [
        "list3.remove(7)\n",
        "list3"
      ]
    },
    {
      "cell_type": "code",
      "execution_count": null,
      "metadata": {
        "colab": {
          "base_uri": "https://localhost:8080/"
        },
        "id": "J7BMqNb-BXKF",
        "outputId": "c75265c8-2857-4080-c143-3d44cbc159d5"
      },
      "outputs": [
        {
          "data": {
            "text/plain": [
              "[[4, 5, 6], 3, 2, 1]"
            ]
          },
          "execution_count": 47,
          "metadata": {},
          "output_type": "execute_result"
        }
      ],
      "source": [
        "list3.reverse()\n",
        "list3"
      ]
    },
    {
      "cell_type": "markdown",
      "metadata": {
        "id": "bc3Z2-naBqoa"
      },
      "source": [
        "3) Ans\n",
        "\n"
      ]
    },
    {
      "cell_type": "code",
      "execution_count": null,
      "metadata": {
        "colab": {
          "base_uri": "https://localhost:8080/",
          "height": 36
        },
        "id": "pjigRcEh0GZh",
        "outputId": "63d780e1-c47f-4bb6-b2a4-9f8e0eddd49f"
      },
      "outputs": [
        {
          "data": {
            "application/vnd.google.colaboratory.intrinsic+json": {
              "type": "string"
            },
            "text/plain": [
              "'Abhijeet'"
            ]
          },
          "execution_count": 10,
          "metadata": {},
          "output_type": "execute_result"
        }
      ],
      "source": [
        "# accessing the list\n",
        "\n",
        "list1 = [1, \"Abhijeet\", 3.5, 4+5j]\n",
        "list1[1]"
      ]
    },
    {
      "cell_type": "code",
      "execution_count": null,
      "metadata": {
        "colab": {
          "base_uri": "https://localhost:8080/"
        },
        "id": "baf16_-d0_Ra",
        "outputId": "e8818db7-0314-40b1-8211-e26337ea6822"
      },
      "outputs": [
        {
          "output_type": "execute_result",
          "data": {
            "text/plain": [
              "(4+5j)"
            ]
          },
          "metadata": {},
          "execution_count": 46
        }
      ],
      "source": [
        "list1[3]"
      ]
    },
    {
      "cell_type": "code",
      "execution_count": null,
      "metadata": {
        "colab": {
          "base_uri": "https://localhost:8080/"
        },
        "id": "v7gUw-ib3BZW",
        "outputId": "038734fc-3721-42c2-8618-0deb9bc33073"
      },
      "outputs": [
        {
          "data": {
            "text/plain": [
              "[1, 'Ashit', 3.5, (3+4j), 'Palai']"
            ]
          },
          "execution_count": 19,
          "metadata": {},
          "output_type": "execute_result"
        }
      ],
      "source": [
        "# modifying the list\n",
        "\n",
        "list2 = [1, \"Abhijeet\", 3.5, 3+4j, \"Palai\"]\n",
        "list2[1] = \"Ashit\"\n",
        "list2"
      ]
    },
    {
      "cell_type": "code",
      "execution_count": null,
      "metadata": {
        "colab": {
          "base_uri": "https://localhost:8080/"
        },
        "id": "qvIGhl9v3oSG",
        "outputId": "7376b3e6-d28e-4fa6-e934-4a67d8c8e081"
      },
      "outputs": [
        {
          "data": {
            "text/plain": [
              "[1, 3.5, (3+4j), 'Palai']"
            ]
          },
          "execution_count": 20,
          "metadata": {},
          "output_type": "execute_result"
        }
      ],
      "source": [
        "# deleting the element in the list using del , remove , pop\n",
        "\n",
        "del list2[1]\n",
        "list2"
      ]
    },
    {
      "cell_type": "code",
      "execution_count": null,
      "metadata": {
        "colab": {
          "base_uri": "https://localhost:8080/"
        },
        "id": "2nrZVJvQ8h3s",
        "outputId": "ff4e0551-ea62-4f93-dd22-e5f7dbda09e1"
      },
      "outputs": [
        {
          "data": {
            "text/plain": [
              "[1, 'Abhijeet', 3.5, (3+4j)]"
            ]
          },
          "execution_count": 24,
          "metadata": {},
          "output_type": "execute_result"
        }
      ],
      "source": [
        "list3 = [1, \"Abhijeet\", 3.5, 3+4j, \"Palai\"]\n",
        "list3.remove(\"Palai\")\n",
        "list3\n"
      ]
    },
    {
      "cell_type": "code",
      "execution_count": null,
      "metadata": {
        "colab": {
          "base_uri": "https://localhost:8080/"
        },
        "id": "VnKs_JvE9eGp",
        "outputId": "bb10a534-cc5a-4474-a19a-f4aed514f9b2"
      },
      "outputs": [
        {
          "data": {
            "text/plain": [
              "[1, 3.5, (3+4j), 'Palai']"
            ]
          },
          "execution_count": 25,
          "metadata": {},
          "output_type": "execute_result"
        }
      ],
      "source": [
        "list4 = [1, \"Abhijeet\", 3.5, 3+4j, \"Palai\"]\n",
        "list4.pop(1)\n",
        "list4"
      ]
    },
    {
      "cell_type": "markdown",
      "metadata": {
        "id": "yOtMxWKU98B_"
      },
      "source": [
        "4) Ans\n",
        "\n",
        "Tuples and lists are both data structures in Python used to store collections of items. Here’s a comparison of their key features, along with examples:\n",
        "\n",
        "Key Differences\n",
        "Mutability:\n",
        "\n",
        "Lists: Mutable, meaning you can modify them (add, remove, or change elements).\n",
        "Tuples: Immutable, meaning once they are created, you cannot change their contents.\n",
        "Syntax:\n",
        "\n",
        "Lists: Defined using square brackets [].\n",
        "Tuples: Defined using parentheses ().\n",
        "Performance:\n",
        "\n",
        "Lists: Generally have a higher memory overhead due to their mutability.\n",
        "Tuples: Typically have a smaller memory footprint and can be faster for certain operations due to their immutability.\n",
        "Use Cases:\n",
        "\n",
        "Lists: Preferred when you need a collection that may change over time.\n",
        "Tuples: Ideal for fixed collections of items or for data that should not change (like coordinates or database records)."
      ]
    },
    {
      "cell_type": "code",
      "execution_count": null,
      "metadata": {
        "colab": {
          "base_uri": "https://localhost:8080/"
        },
        "id": "bXNHGIYn-0Cp",
        "outputId": "7bf4be54-8b8b-40ed-d658-21f625dc1e48"
      },
      "outputs": [
        {
          "data": {
            "text/plain": [
              "[1, 'Palai', 3.5, (4+5j), 'Abhijeet']"
            ]
          },
          "execution_count": 26,
          "metadata": {},
          "output_type": "execute_result"
        }
      ],
      "source": [
        "# List\n",
        "#list are mutable\n",
        "list1 = [1,2, 3.5, 4+5j, \"Abhijeet\"]\n",
        "list1[1] = \"Palai\"\n",
        "list1"
      ]
    },
    {
      "cell_type": "code",
      "execution_count": null,
      "metadata": {
        "colab": {
          "base_uri": "https://localhost:8080/",
          "height": 176
        },
        "id": "MBGk5ReG_lZc",
        "outputId": "2dea80d4-8371-4122-8e9c-f86d5de5c4d3"
      },
      "outputs": [
        {
          "ename": "TypeError",
          "evalue": "'tuple' object does not support item assignment",
          "output_type": "error",
          "traceback": [
            "\u001b[0;31m---------------------------------------------------------------------------\u001b[0m",
            "\u001b[0;31mTypeError\u001b[0m                                 Traceback (most recent call last)",
            "\u001b[0;32m<ipython-input-27-b117abae735c>\u001b[0m in \u001b[0;36m<cell line: 4>\u001b[0;34m()\u001b[0m\n\u001b[1;32m      2\u001b[0m \u001b[0;31m# tuples are immutable\u001b[0m\u001b[0;34m\u001b[0m\u001b[0;34m\u001b[0m\u001b[0m\n\u001b[1;32m      3\u001b[0m \u001b[0mtuple1\u001b[0m \u001b[0;34m=\u001b[0m \u001b[0;34m(\u001b[0m\u001b[0;36m1\u001b[0m\u001b[0;34m,\u001b[0m\u001b[0;36m2\u001b[0m\u001b[0;34m,\u001b[0m \u001b[0;36m3.5\u001b[0m\u001b[0;34m,\u001b[0m \u001b[0;36m4\u001b[0m\u001b[0;34m+\u001b[0m\u001b[0;36m5j\u001b[0m\u001b[0;34m,\u001b[0m \u001b[0;34m\"Abhijeet\"\u001b[0m\u001b[0;34m)\u001b[0m\u001b[0;34m\u001b[0m\u001b[0;34m\u001b[0m\u001b[0m\n\u001b[0;32m----> 4\u001b[0;31m \u001b[0mtuple1\u001b[0m\u001b[0;34m[\u001b[0m\u001b[0;36m1\u001b[0m\u001b[0;34m]\u001b[0m \u001b[0;34m=\u001b[0m \u001b[0;34m\"Palai\"\u001b[0m\u001b[0;34m\u001b[0m\u001b[0;34m\u001b[0m\u001b[0m\n\u001b[0m",
            "\u001b[0;31mTypeError\u001b[0m: 'tuple' object does not support item assignment"
          ]
        }
      ],
      "source": [
        "# Tuples\n",
        "# tuples are immutable\n",
        "tuple1 = (1,2, 3.5, 4+5j, \"Abhijeet\")\n",
        "tuple1[1] = \"Palai\""
      ]
    },
    {
      "cell_type": "markdown",
      "metadata": {
        "id": "JDkrmdOlBmhu"
      },
      "source": [
        "5) Ans\n",
        "\n",
        "Sets are a built-in data structure in Python that represent an unordered collection of unique elements. Here are some key features of sets, along with examples of their use:\n",
        "\n",
        "Key Features\n",
        "Uniqueness:\n",
        "\n",
        "a) Sets automatically eliminate duplicate entries. Each element must be unique.\n",
        "Unordered:\n",
        "\n",
        "b) The items in a set do not have a defined order. This means that the order in which items are added does not matter.\n",
        "Mutable:\n",
        "\n",
        "c) Sets are mutable, allowing you to add or remove items after the set has been created.\n",
        "Operations:\n",
        "\n",
        "d) Sets support various mathematical operations like union, intersection, difference, and symmetric difference.\n",
        "Membership Testing:\n",
        "\n",
        "e) Sets provide a fast way to check for membership. Using the in keyword is efficient for checking if an element is part of a set."
      ]
    },
    {
      "cell_type": "code",
      "execution_count": null,
      "metadata": {
        "colab": {
          "base_uri": "https://localhost:8080/"
        },
        "id": "u_Nw8dd0ButG",
        "outputId": "e5c71a94-2ada-4730-e8a2-29f5f7c79781"
      },
      "outputs": [
        {
          "data": {
            "text/plain": [
              "{(5+3j), 1, 2, 3.5, 'Abhijeet'}"
            ]
          },
          "execution_count": 28,
          "metadata": {},
          "output_type": "execute_result"
        }
      ],
      "source": [
        "# creating a set\n",
        "set1 = {1,2,3.5,\"Abhijeet\",5+3j}\n",
        "set1  #set are unorder collection of element"
      ]
    },
    {
      "cell_type": "code",
      "execution_count": null,
      "metadata": {
        "colab": {
          "base_uri": "https://localhost:8080/"
        },
        "id": "YsFZ2_O6_5eJ",
        "outputId": "550ce031-dd32-48ce-e858-140c256c1c2c"
      },
      "outputs": [
        {
          "data": {
            "text/plain": [
              "{(5+3j), 1, 2, 3.5, 'Abhijeet', 'Palai'}"
            ]
          },
          "execution_count": 29,
          "metadata": {},
          "output_type": "execute_result"
        }
      ],
      "source": [
        "# sets are mutable\n",
        "set1.add(\"Palai\")\n",
        "set1"
      ]
    },
    {
      "cell_type": "code",
      "execution_count": null,
      "metadata": {
        "colab": {
          "base_uri": "https://localhost:8080/"
        },
        "id": "1ce4l8stCciI",
        "outputId": "f164fc06-b505-4d54-886b-cfbbcf4d3cbc"
      },
      "outputs": [
        {
          "data": {
            "text/plain": [
              "{(5+3j), 1, 2, 3.5, 'Abhijeet'}"
            ]
          },
          "execution_count": 30,
          "metadata": {},
          "output_type": "execute_result"
        }
      ],
      "source": [
        "set1.remove(\"Palai\")\n",
        "set1"
      ]
    },
    {
      "cell_type": "code",
      "execution_count": null,
      "metadata": {
        "colab": {
          "base_uri": "https://localhost:8080/"
        },
        "id": "7RdnN0S7DAIn",
        "outputId": "3df19673-36b2-4cc9-a8d2-6cb4c87a5283"
      },
      "outputs": [
        {
          "data": {
            "text/plain": [
              "{1, 2, 3, 4, 5, 6, 7, 8}"
            ]
          },
          "execution_count": 31,
          "metadata": {},
          "output_type": "execute_result"
        }
      ],
      "source": [
        "# Various mathematical operation like, union, intersection, difference, symmetric difference\n",
        "\n",
        "set1 = {1,2,3,4,5}\n",
        "set2 = {4,5,6,7,8}\n",
        "set1|set2 # union>> combine all the element"
      ]
    },
    {
      "cell_type": "code",
      "execution_count": null,
      "metadata": {
        "colab": {
          "base_uri": "https://localhost:8080/"
        },
        "id": "2KdzFPbUD5v2",
        "outputId": "a3997def-ff4c-418b-8893-676bb24fdb49"
      },
      "outputs": [
        {
          "data": {
            "text/plain": [
              "{4, 5}"
            ]
          },
          "execution_count": 32,
          "metadata": {},
          "output_type": "execute_result"
        }
      ],
      "source": [
        "set1&set2 # intersection >> common element"
      ]
    },
    {
      "cell_type": "code",
      "execution_count": null,
      "metadata": {
        "colab": {
          "base_uri": "https://localhost:8080/"
        },
        "id": "QgxXCxFrEAYa",
        "outputId": "173472a0-7df4-4e7a-ca70-c4abb3828676"
      },
      "outputs": [
        {
          "data": {
            "text/plain": [
              "{1, 2, 3}"
            ]
          },
          "execution_count": 33,
          "metadata": {},
          "output_type": "execute_result"
        }
      ],
      "source": [
        "set1-set2 # difference >> element in set1 but not in set2"
      ]
    },
    {
      "cell_type": "code",
      "execution_count": null,
      "metadata": {
        "colab": {
          "base_uri": "https://localhost:8080/"
        },
        "id": "k8khOqupEC9J",
        "outputId": "80f1b4c1-5db1-45bf-9087-b94eed9c4297"
      },
      "outputs": [
        {
          "data": {
            "text/plain": [
              "{6, 7, 8}"
            ]
          },
          "execution_count": 34,
          "metadata": {},
          "output_type": "execute_result"
        }
      ],
      "source": [
        "set2-set1 # difference >> element in set2 but not in set1"
      ]
    },
    {
      "cell_type": "code",
      "execution_count": null,
      "metadata": {
        "colab": {
          "base_uri": "https://localhost:8080/"
        },
        "id": "5OZhRxGGEIzv",
        "outputId": "bf14a9f7-53d0-4918-815b-9c481488b763"
      },
      "outputs": [
        {
          "data": {
            "text/plain": [
              "{1, 2, 3, 6, 7, 8}"
            ]
          },
          "execution_count": 35,
          "metadata": {},
          "output_type": "execute_result"
        }
      ],
      "source": [
        "set1^set2 # symmetric difference >> element in set1 or set2 but not in both"
      ]
    },
    {
      "cell_type": "code",
      "execution_count": null,
      "metadata": {
        "colab": {
          "base_uri": "https://localhost:8080/"
        },
        "id": "djOfbGRjEOtT",
        "outputId": "fe2036e0-bb72-4337-c68c-62fca13ba5a1"
      },
      "outputs": [
        {
          "output_type": "execute_result",
          "data": {
            "text/plain": [
              "True"
            ]
          },
          "metadata": {},
          "execution_count": 37
        }
      ],
      "source": [
        "# Membership testing\n",
        "set3 = {1,2,3,4,5}\n",
        "3 in set3"
      ]
    },
    {
      "cell_type": "markdown",
      "source": [
        "6) Ans\n",
        "\n",
        "Tuples and sets in Python are both versatile data structures, but they serve different purposes and have distinct characteristics. Here’s a breakdown of their use cases:\n",
        "\n",
        "Tuples\n",
        "Immutable Collections:\n",
        "\n",
        "Tuples are immutable, meaning their elements cannot be changed after creation. This makes them suitable for fixed collections of items, such as coordinates\n",
        "\n",
        "Use tuples when you want to ensure that data remains constant throughout your program, which can help prevent accidental modifications.\n",
        "Return Multiple Values:\n",
        "\n",
        "Tuples are often used to return multiple values from a function.\n",
        "\n",
        "Dictionary Keys:\n",
        "\n",
        "Because tuples are immutable, they can be used as keys in dictionaries, whereas lists cannot. This is useful for creating composite keys.\n",
        "Packing and Unpacking:\n",
        "\n",
        "Tuples support packing and unpacking, which simplifies code\n",
        "\n",
        "Heterogeneous Data:\n",
        "\n",
        "Tuples can store heterogeneous data types, making them useful for records, like storing a name and age together."
      ],
      "metadata": {
        "id": "7DYpRe2UFBTb"
      }
    },
    {
      "cell_type": "code",
      "source": [
        "#tuple\n",
        "#tuple can store heterogenous data types\n",
        "tuple1 = (1,2,3.5,4+5j,\"Abhijeet\")\n",
        "tuple1"
      ],
      "metadata": {
        "colab": {
          "base_uri": "https://localhost:8080/"
        },
        "id": "Lxk3SWmYHlUF",
        "outputId": "a7e14785-cae7-46a1-93ac-b2ab760b84d9"
      },
      "execution_count": null,
      "outputs": [
        {
          "output_type": "execute_result",
          "data": {
            "text/plain": [
              "(1, 2, 3.5, (4+5j), 'Abhijeet')"
            ]
          },
          "metadata": {},
          "execution_count": 40
        }
      ]
    },
    {
      "cell_type": "code",
      "source": [
        "# Use case of tuple is where don't want to modify the data\n",
        "employid = (1,2,3,4,5)\n",
        "employid[1] = 20"
      ],
      "metadata": {
        "colab": {
          "base_uri": "https://localhost:8080/",
          "height": 176
        },
        "id": "5FpzUmNxGIoJ",
        "outputId": "a4f93933-bd37-4149-dc4d-19fc5d2a6eb3"
      },
      "execution_count": null,
      "outputs": [
        {
          "output_type": "error",
          "ename": "TypeError",
          "evalue": "'tuple' object does not support item assignment",
          "traceback": [
            "\u001b[0;31m---------------------------------------------------------------------------\u001b[0m",
            "\u001b[0;31mTypeError\u001b[0m                                 Traceback (most recent call last)",
            "\u001b[0;32m<ipython-input-47-6ea9013a008c>\u001b[0m in \u001b[0;36m<cell line: 3>\u001b[0;34m()\u001b[0m\n\u001b[1;32m      1\u001b[0m \u001b[0;31m# Use case of tuple is where don't want to modify the data\u001b[0m\u001b[0;34m\u001b[0m\u001b[0;34m\u001b[0m\u001b[0m\n\u001b[1;32m      2\u001b[0m \u001b[0memployid\u001b[0m \u001b[0;34m=\u001b[0m \u001b[0;34m(\u001b[0m\u001b[0;36m1\u001b[0m\u001b[0;34m,\u001b[0m\u001b[0;36m2\u001b[0m\u001b[0;34m,\u001b[0m\u001b[0;36m3\u001b[0m\u001b[0;34m,\u001b[0m\u001b[0;36m4\u001b[0m\u001b[0;34m,\u001b[0m\u001b[0;36m5\u001b[0m\u001b[0;34m)\u001b[0m\u001b[0;34m\u001b[0m\u001b[0;34m\u001b[0m\u001b[0m\n\u001b[0;32m----> 3\u001b[0;31m \u001b[0memployid\u001b[0m\u001b[0;34m[\u001b[0m\u001b[0;36m1\u001b[0m\u001b[0;34m]\u001b[0m \u001b[0;34m=\u001b[0m \u001b[0;36m20\u001b[0m\u001b[0;34m\u001b[0m\u001b[0;34m\u001b[0m\u001b[0m\n\u001b[0m",
            "\u001b[0;31mTypeError\u001b[0m: 'tuple' object does not support item assignment"
          ]
        }
      ]
    },
    {
      "cell_type": "markdown",
      "source": [
        "6) Ans Sets\n",
        "\n",
        "Unique Collections:\n",
        "\n",
        "Sets are unordered collections that automatically enforce uniqueness. They are ideal for situations where you need to store distinct items, such as a collection of user IDs.\n",
        "Mathematical Set Operations:\n",
        "\n",
        "Sets support operations like union, intersection, and difference, which can be useful for tasks involving comparisons or data analysis:\n",
        "\n",
        "Membership Testing:\n",
        "\n",
        "Sets provide faster membership testing compared to lists, making them suitable for scenarios where you frequently check for the presence of an item.\n",
        "Removing Duplicates:\n",
        "\n",
        "You can easily remove duplicates from a list by converting it to a set:\n",
        "\n",
        "Dynamic Collections:\n",
        "\n",
        "Unlike tuples, sets are mutable, allowing you to add or remove items. This makes them useful for collections that need to change over time."
      ],
      "metadata": {
        "id": "ZtmiH0cHI-ha"
      }
    },
    {
      "cell_type": "code",
      "source": [
        "set1 = {1,2,3.5, \"Abhijeet\", 4+5j}\n",
        "set1 #sets are unodered collection of elements"
      ],
      "metadata": {
        "colab": {
          "base_uri": "https://localhost:8080/"
        },
        "id": "kBjkco9-J3fI",
        "outputId": "dabc3346-de41-4c66-f226-438f3778cc58"
      },
      "execution_count": null,
      "outputs": [
        {
          "output_type": "execute_result",
          "data": {
            "text/plain": [
              "{(4+5j), 1, 2, 3.5, 'Abhijeet'}"
            ]
          },
          "metadata": {},
          "execution_count": 48
        }
      ]
    },
    {
      "cell_type": "code",
      "source": [
        "# It doesn't allow duplicate elements\n",
        "set2 = {1,1,2,2,3,3,4,4,5,5}\n",
        "set2"
      ],
      "metadata": {
        "colab": {
          "base_uri": "https://localhost:8080/"
        },
        "id": "a0TWkRk4NCYR",
        "outputId": "8181359e-dc6a-4412-cbdc-7e207c870284"
      },
      "execution_count": null,
      "outputs": [
        {
          "output_type": "execute_result",
          "data": {
            "text/plain": [
              "{1, 2, 3, 4, 5}"
            ]
          },
          "metadata": {},
          "execution_count": 49
        }
      ]
    },
    {
      "cell_type": "code",
      "source": [
        "# It is unodered therefore indexing will not work\n",
        "set2[1]"
      ],
      "metadata": {
        "colab": {
          "base_uri": "https://localhost:8080/",
          "height": 158
        },
        "id": "IWe012eYN_Zr",
        "outputId": "aeb116ca-6ac8-47fb-c2f7-77dde99f8682"
      },
      "execution_count": null,
      "outputs": [
        {
          "output_type": "error",
          "ename": "TypeError",
          "evalue": "'set' object is not subscriptable",
          "traceback": [
            "\u001b[0;31m---------------------------------------------------------------------------\u001b[0m",
            "\u001b[0;31mTypeError\u001b[0m                                 Traceback (most recent call last)",
            "\u001b[0;32m<ipython-input-50-785bacbc148d>\u001b[0m in \u001b[0;36m<cell line: 2>\u001b[0;34m()\u001b[0m\n\u001b[1;32m      1\u001b[0m \u001b[0;31m# It is unodered therefore indexing will not work\u001b[0m\u001b[0;34m\u001b[0m\u001b[0;34m\u001b[0m\u001b[0m\n\u001b[0;32m----> 2\u001b[0;31m \u001b[0mset2\u001b[0m\u001b[0;34m[\u001b[0m\u001b[0;36m1\u001b[0m\u001b[0;34m]\u001b[0m\u001b[0;34m\u001b[0m\u001b[0;34m\u001b[0m\u001b[0m\n\u001b[0m",
            "\u001b[0;31mTypeError\u001b[0m: 'set' object is not subscriptable"
          ]
        }
      ]
    },
    {
      "cell_type": "code",
      "source": [
        "# Various mathematical operation like, union, intersection, difference, symmetric difference\n",
        "\n",
        "set1 = {1,2,3,4,5}\n",
        "set2 = {4,5,6,7,8}\n",
        "set1|set2 # union>> combine all the element"
      ],
      "metadata": {
        "colab": {
          "base_uri": "https://localhost:8080/"
        },
        "id": "lYn8xqgPOiAA",
        "outputId": "c6ef24a6-d761-42d0-a01a-db785d63e272"
      },
      "execution_count": null,
      "outputs": [
        {
          "output_type": "execute_result",
          "data": {
            "text/plain": [
              "{1, 2, 3, 4, 5, 6, 7, 8}"
            ]
          },
          "metadata": {},
          "execution_count": 51
        }
      ]
    },
    {
      "cell_type": "code",
      "source": [
        "set1&set2 # intersection >> common element"
      ],
      "metadata": {
        "colab": {
          "base_uri": "https://localhost:8080/"
        },
        "id": "6NrTZo7USDJ7",
        "outputId": "74d3ccaf-5b57-467d-ac0b-58fa94b505bb"
      },
      "execution_count": null,
      "outputs": [
        {
          "output_type": "execute_result",
          "data": {
            "text/plain": [
              "{4, 5}"
            ]
          },
          "metadata": {},
          "execution_count": 52
        }
      ]
    },
    {
      "cell_type": "code",
      "source": [
        "set1-set2 # difference >> element in set1 but not in set2"
      ],
      "metadata": {
        "colab": {
          "base_uri": "https://localhost:8080/"
        },
        "id": "-fgsA2FASJ4G",
        "outputId": "814a68a8-c63a-4358-e900-c643c53ad533"
      },
      "execution_count": null,
      "outputs": [
        {
          "output_type": "execute_result",
          "data": {
            "text/plain": [
              "{1, 2, 3}"
            ]
          },
          "metadata": {},
          "execution_count": 53
        }
      ]
    },
    {
      "cell_type": "code",
      "source": [
        "set2-set1 # difference >> element in set2 but not in set1"
      ],
      "metadata": {
        "colab": {
          "base_uri": "https://localhost:8080/"
        },
        "id": "PO7RN3UJSXvk",
        "outputId": "5fb157f1-0664-45a9-b4e0-eee3e8a5e0e9"
      },
      "execution_count": null,
      "outputs": [
        {
          "output_type": "execute_result",
          "data": {
            "text/plain": [
              "{6, 7, 8}"
            ]
          },
          "metadata": {},
          "execution_count": 54
        }
      ]
    },
    {
      "cell_type": "code",
      "source": [
        "set1^set2 # symmetric difference >> element in set1 or set2 but not in both"
      ],
      "metadata": {
        "colab": {
          "base_uri": "https://localhost:8080/"
        },
        "id": "t150YYUhSdix",
        "outputId": "a26d4384-af3e-4590-c28c-8449aae60ef9"
      },
      "execution_count": null,
      "outputs": [
        {
          "output_type": "execute_result",
          "data": {
            "text/plain": [
              "{1, 2, 3, 6, 7, 8}"
            ]
          },
          "metadata": {},
          "execution_count": 55
        }
      ]
    },
    {
      "cell_type": "code",
      "source": [
        "# Membership testing\n",
        "set3 = {1,2,3,4,5}\n",
        "3 in set3"
      ],
      "metadata": {
        "colab": {
          "base_uri": "https://localhost:8080/"
        },
        "id": "DdurWnl3SllQ",
        "outputId": "40dce8b1-d61b-4d92-fbcc-7737225cab06"
      },
      "execution_count": null,
      "outputs": [
        {
          "output_type": "execute_result",
          "data": {
            "text/plain": [
              "True"
            ]
          },
          "metadata": {},
          "execution_count": 56
        }
      ]
    },
    {
      "cell_type": "code",
      "source": [
        "# Use case os set\n",
        "\n",
        "list1 = [1, 2, 3, \"Abhijeet\", \"Abhijeet\", \"Ashit\", \"Ashit\", \"Palai\", \"Palai\" ]\n",
        "#To avoid duplicate Abhijeet, Ashit, Palai we use set\n",
        "s = set(list1) # Here we cannot list into set\n",
        "s"
      ],
      "metadata": {
        "colab": {
          "base_uri": "https://localhost:8080/"
        },
        "id": "1-dEQsg_Sqjx",
        "outputId": "9730f491-12c0-4aaa-a48d-fdbcb80fff03"
      },
      "execution_count": null,
      "outputs": [
        {
          "output_type": "execute_result",
          "data": {
            "text/plain": [
              "{1, 2, 3, 'Abhijeet', 'Ashit', 'Palai'}"
            ]
          },
          "metadata": {},
          "execution_count": 59
        }
      ]
    },
    {
      "cell_type": "code",
      "source": [
        "# Now again convert set to list back\n",
        "list1 = list(s)\n",
        "list1\n"
      ],
      "metadata": {
        "colab": {
          "base_uri": "https://localhost:8080/"
        },
        "id": "fCvY2LiHlwkv",
        "outputId": "68e994a5-86bb-4629-803b-76d5d555b900"
      },
      "execution_count": null,
      "outputs": [
        {
          "output_type": "execute_result",
          "data": {
            "text/plain": [
              "[1, 2, 3, 'Palai', 'Abhijeet', 'Ashit']"
            ]
          },
          "metadata": {},
          "execution_count": 60
        }
      ]
    },
    {
      "cell_type": "markdown",
      "source": [
        "7) Ans\n",
        "\n",
        "Dictionaries in Python are mutable collections of key-value pairs, allowing you to add, modify, and delete items easily. Here’s how to do each of these operations:"
      ],
      "metadata": {
        "id": "aZXQGrhymAVI"
      }
    },
    {
      "cell_type": "code",
      "source": [
        "dict ={\"name\":\"Abhijeet\", \"age\":24, \"city\":\"Gurugram\"}\n",
        "dict\n"
      ],
      "metadata": {
        "colab": {
          "base_uri": "https://localhost:8080/"
        },
        "id": "2jIHr9VznKIL",
        "outputId": "4798e7a7-9348-4557-b7f1-dedf36177edd"
      },
      "execution_count": null,
      "outputs": [
        {
          "output_type": "execute_result",
          "data": {
            "text/plain": [
              "{'name': 'Abhijeet', 'age': 24, 'city': 'Gurugram'}"
            ]
          },
          "metadata": {},
          "execution_count": 62
        }
      ]
    },
    {
      "cell_type": "code",
      "source": [
        "# to add elementin dictionary\n",
        "\n",
        "# Create an empty dictionary\n",
        "my_dict = {}\n",
        "\n",
        "# Add items\n",
        "my_dict['name'] = \"Abhijeet\"\n",
        "my_dict['age'] = 24\n",
        "\n",
        "print(my_dict)\n",
        "# Output: {'name': 'Alice', 'age': 30}\n"
      ],
      "metadata": {
        "id": "6Y3u42y2l9an",
        "colab": {
          "base_uri": "https://localhost:8080/"
        },
        "outputId": "2bbff317-b8f7-44e6-fb52-e2df7a6425f2"
      },
      "execution_count": 64,
      "outputs": [
        {
          "output_type": "stream",
          "name": "stdout",
          "text": [
            "{'name': 'Abhijeet', 'age': 24}\n"
          ]
        }
      ]
    },
    {
      "cell_type": "code",
      "source": [
        "# Modify an existing item\n",
        "my_dict['age'] = 30\n",
        "print(my_dict)\n",
        "# Output: {'name': 'Alice', 'age': 30}"
      ],
      "metadata": {
        "colab": {
          "base_uri": "https://localhost:8080/"
        },
        "id": "yCHN08R6pYlW",
        "outputId": "793121f5-e885-4919-cb4b-a86bfc8c187f"
      },
      "execution_count": 67,
      "outputs": [
        {
          "output_type": "stream",
          "name": "stdout",
          "text": [
            "{'name': 'Abhijeet', 'age': 30}\n"
          ]
        }
      ]
    },
    {
      "cell_type": "code",
      "source": [
        "# Delete an item\n",
        "del my_dict['age']\n",
        "my_dict\n",
        "# Output: {'name': 'Alice'}"
      ],
      "metadata": {
        "colab": {
          "base_uri": "https://localhost:8080/",
          "height": 193
        },
        "id": "0pAAyMoDptMJ",
        "outputId": "9daafef6-79ef-44d5-f720-29f17cbd6f11"
      },
      "execution_count": 76,
      "outputs": [
        {
          "output_type": "error",
          "ename": "KeyError",
          "evalue": "'age'",
          "traceback": [
            "\u001b[0;31m---------------------------------------------------------------------------\u001b[0m",
            "\u001b[0;31mKeyError\u001b[0m                                  Traceback (most recent call last)",
            "\u001b[0;32m<ipython-input-76-d037f82f10f6>\u001b[0m in \u001b[0;36m<cell line: 2>\u001b[0;34m()\u001b[0m\n\u001b[1;32m      1\u001b[0m \u001b[0;31m# Delete an item\u001b[0m\u001b[0;34m\u001b[0m\u001b[0;34m\u001b[0m\u001b[0m\n\u001b[0;32m----> 2\u001b[0;31m \u001b[0;32mdel\u001b[0m \u001b[0mmy_dict\u001b[0m\u001b[0;34m[\u001b[0m\u001b[0;34m'age'\u001b[0m\u001b[0;34m]\u001b[0m\u001b[0;34m\u001b[0m\u001b[0;34m\u001b[0m\u001b[0m\n\u001b[0m\u001b[1;32m      3\u001b[0m \u001b[0mmy_dict\u001b[0m\u001b[0;34m\u001b[0m\u001b[0;34m\u001b[0m\u001b[0m\n\u001b[1;32m      4\u001b[0m \u001b[0;31m# Output: {'name': 'Alice'}\u001b[0m\u001b[0;34m\u001b[0m\u001b[0;34m\u001b[0m\u001b[0m\n",
            "\u001b[0;31mKeyError\u001b[0m: 'age'"
          ]
        }
      ]
    },
    {
      "cell_type": "code",
      "source": [
        "# Using pop to remove and return the value\n",
        "name = my_dict.pop('name')\n",
        "\n",
        "print(my_dict)\n",
        "# Output: {}\n",
        "print(name)\n",
        "# Output: Abhijeet\n"
      ],
      "metadata": {
        "colab": {
          "base_uri": "https://localhost:8080/",
          "height": 211
        },
        "id": "mJHioVatqi02",
        "outputId": "01977060-f5fb-4f42-9a49-cc9c22f48cec"
      },
      "execution_count": 77,
      "outputs": [
        {
          "output_type": "error",
          "ename": "KeyError",
          "evalue": "'name'",
          "traceback": [
            "\u001b[0;31m---------------------------------------------------------------------------\u001b[0m",
            "\u001b[0;31mKeyError\u001b[0m                                  Traceback (most recent call last)",
            "\u001b[0;32m<ipython-input-77-4c355a4eb251>\u001b[0m in \u001b[0;36m<cell line: 2>\u001b[0;34m()\u001b[0m\n\u001b[1;32m      1\u001b[0m \u001b[0;31m# Using pop to remove and return the value\u001b[0m\u001b[0;34m\u001b[0m\u001b[0;34m\u001b[0m\u001b[0m\n\u001b[0;32m----> 2\u001b[0;31m \u001b[0mname\u001b[0m \u001b[0;34m=\u001b[0m \u001b[0mmy_dict\u001b[0m\u001b[0;34m.\u001b[0m\u001b[0mpop\u001b[0m\u001b[0;34m(\u001b[0m\u001b[0;34m'name'\u001b[0m\u001b[0;34m)\u001b[0m\u001b[0;34m\u001b[0m\u001b[0;34m\u001b[0m\u001b[0m\n\u001b[0m\u001b[1;32m      3\u001b[0m \u001b[0;34m\u001b[0m\u001b[0m\n\u001b[1;32m      4\u001b[0m \u001b[0mprint\u001b[0m\u001b[0;34m(\u001b[0m\u001b[0mmy_dict\u001b[0m\u001b[0;34m)\u001b[0m\u001b[0;34m\u001b[0m\u001b[0;34m\u001b[0m\u001b[0m\n\u001b[1;32m      5\u001b[0m \u001b[0;31m# Output: {}\u001b[0m\u001b[0;34m\u001b[0m\u001b[0;34m\u001b[0m\u001b[0m\n",
            "\u001b[0;31mKeyError\u001b[0m: 'name'"
          ]
        }
      ]
    },
    {
      "cell_type": "markdown",
      "source": [
        "8) Ans\n",
        "\n",
        "In Python, dictionary keys must be immutable. This requirement is important for several reasons, including data integrity, performance, and the fundamental design of dictionaries. Here’s a detailed look at why immutability matters for dictionary keys, along with examples.\n",
        "\n",
        "1. Data Integrity\n",
        "Immutability ensures that once a key is added to a dictionary, it cannot be changed. This is crucial for maintaining the integrity of the data structure. If keys were mutable, their hash values could change, leading to inconsistencies in data retrieval."
      ],
      "metadata": {
        "id": "0GgFBTSurYtb"
      }
    },
    {
      "cell_type": "code",
      "source": [
        "my_dict = {}\n",
        "key = [1, 2, 3]  # A mutable list cannot be used as a key\n",
        "\n",
        "# This would raise a TypeError\n",
        "# my_dict[key] = 'value'\n"
      ],
      "metadata": {
        "id": "mNCsUDver9IF"
      },
      "execution_count": 78,
      "outputs": []
    },
    {
      "cell_type": "code",
      "source": [
        "my_dict = {}\n",
        "key = (1, 2, 3)  # A tuple is immutable\n",
        "\n",
        "my_dict[key] = 'value'  # This works\n",
        "print(my_dict)\n",
        "# Output: {(1, 2, 3): 'value'}\n"
      ],
      "metadata": {
        "colab": {
          "base_uri": "https://localhost:8080/"
        },
        "id": "CuMZBcEosIfu",
        "outputId": "6db3add4-5e16-47e2-e31c-f548d2144b62"
      },
      "execution_count": 79,
      "outputs": [
        {
          "output_type": "stream",
          "name": "stdout",
          "text": [
            "{(1, 2, 3): 'value'}\n"
          ]
        }
      ]
    },
    {
      "cell_type": "markdown",
      "source": [
        "2. Performance\n",
        "Dictionaries rely on hash tables for quick data retrieval. When a key is used, its hash value is calculated and stored. If mutable objects could be used as keys, their hash values could change if the object is modified, leading to incorrect lookups or even data loss."
      ],
      "metadata": {
        "id": "7tZjkPKjsNCE"
      }
    },
    {
      "cell_type": "code",
      "source": [
        "my_dict = {}\n",
        "\n",
        "# If a mutable object like a list were allowed as a key\n",
        "# Changing the list would change the hash value\n",
        "key = [1, 2]\n",
        "\n",
        "my_dict[key] = 'some value'  # This will fail\n"
      ],
      "metadata": {
        "colab": {
          "base_uri": "https://localhost:8080/",
          "height": 176
        },
        "id": "vZktHS4FsOsv",
        "outputId": "02f355fc-aaa5-446c-8dad-d8eee8f4b0de"
      },
      "execution_count": 80,
      "outputs": [
        {
          "output_type": "error",
          "ename": "TypeError",
          "evalue": "unhashable type: 'list'",
          "traceback": [
            "\u001b[0;31m---------------------------------------------------------------------------\u001b[0m",
            "\u001b[0;31mTypeError\u001b[0m                                 Traceback (most recent call last)",
            "\u001b[0;32m<ipython-input-80-2a9d5bbc625e>\u001b[0m in \u001b[0;36m<cell line: 7>\u001b[0;34m()\u001b[0m\n\u001b[1;32m      5\u001b[0m \u001b[0mkey\u001b[0m \u001b[0;34m=\u001b[0m \u001b[0;34m[\u001b[0m\u001b[0;36m1\u001b[0m\u001b[0;34m,\u001b[0m \u001b[0;36m2\u001b[0m\u001b[0;34m]\u001b[0m\u001b[0;34m\u001b[0m\u001b[0;34m\u001b[0m\u001b[0m\n\u001b[1;32m      6\u001b[0m \u001b[0;34m\u001b[0m\u001b[0m\n\u001b[0;32m----> 7\u001b[0;31m \u001b[0mmy_dict\u001b[0m\u001b[0;34m[\u001b[0m\u001b[0mkey\u001b[0m\u001b[0;34m]\u001b[0m \u001b[0;34m=\u001b[0m \u001b[0;34m'some value'\u001b[0m  \u001b[0;31m# This will fail\u001b[0m\u001b[0;34m\u001b[0m\u001b[0;34m\u001b[0m\u001b[0m\n\u001b[0m",
            "\u001b[0;31mTypeError\u001b[0m: unhashable type: 'list'"
          ]
        }
      ]
    },
    {
      "cell_type": "markdown",
      "source": [
        "3. Consistency\n",
        "Having immutable keys ensures that the dictionary’s structure remains consistent throughout its lifetime. If keys could change, the dictionary would become unreliable, making it difficult to track values."
      ],
      "metadata": {
        "id": "rfc_3paqsXbI"
      }
    },
    {
      "cell_type": "code",
      "source": [
        "my_dict = {}\n",
        "\n",
        "# Using an immutable string as a key\n",
        "key = \"username\"\n",
        "my_dict[key] = \"Alice\"\n",
        "\n",
        "# The value can be reliably retrieved\n",
        "print(my_dict[key])  # Output: Alice\n"
      ],
      "metadata": {
        "colab": {
          "base_uri": "https://localhost:8080/"
        },
        "id": "7KJTyxncsYmU",
        "outputId": "f4a7e8d1-8b25-4079-8e1d-3df17b2963bc"
      },
      "execution_count": 82,
      "outputs": [
        {
          "output_type": "stream",
          "name": "stdout",
          "text": [
            "Alice\n"
          ]
        }
      ]
    },
    {
      "cell_type": "markdown",
      "source": [
        "Allowed Immutable Types\n",
        "The types that can be used as dictionary keys include:\n",
        "\n",
        "Strings: Always immutable.\n",
        "Numbers: Integers and floats are immutable.\n",
        "Tuples: Can be used as long as all elements within the tuple are also immutable.\n",
        "Frozensets: Immutable versions of sets."
      ],
      "metadata": {
        "id": "y0YuxkegsjVw"
      }
    },
    {
      "cell_type": "code",
      "source": [
        "my_dict = {}\n",
        "key = (1, 2, 3)  # A tuple is immutable\n",
        "my_dict[key] = 'Tuple Key'\n",
        "\n",
        "print(my_dict)\n",
        "# Output: {(1, 2, 3): 'Tuple Key'}\n"
      ],
      "metadata": {
        "colab": {
          "base_uri": "https://localhost:8080/"
        },
        "id": "9GgnLRHtskaZ",
        "outputId": "67d3e205-edfd-4b02-a60a-5243032e8133"
      },
      "execution_count": 83,
      "outputs": [
        {
          "output_type": "stream",
          "name": "stdout",
          "text": [
            "{(1, 2, 3): 'Tuple Key'}\n"
          ]
        }
      ]
    }
  ],
  "metadata": {
    "colab": {
      "provenance": []
    },
    "kernelspec": {
      "display_name": "Python 3",
      "name": "python3"
    },
    "language_info": {
      "name": "python"
    }
  },
  "nbformat": 4,
  "nbformat_minor": 0
}