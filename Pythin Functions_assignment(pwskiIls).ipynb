{
  "nbformat": 4,
  "nbformat_minor": 0,
  "metadata": {
    "colab": {
      "provenance": []
    },
    "kernelspec": {
      "name": "python3",
      "display_name": "Python 3"
    },
    "language_info": {
      "name": "python"
    }
  },
  "cells": [
    {
      "cell_type": "markdown",
      "source": [
        "# Function assignment (Solution)"
      ],
      "metadata": {
        "id": "k35vK0vKq6Hh"
      }
    },
    {
      "cell_type": "markdown",
      "source": [
        "1) Ans\n",
        "\n",
        "In Python, the terms \"function\" and \"method\" refer to different concepts, even though they are often used interchangeably in casual conversation. Here’s a breakdown of their differences:\n",
        "\n",
        "Function\n",
        "Definition: A function is a standalone block of code that performs a specific task. It can take inputs (arguments) and can return a value.\n",
        "Usage: Functions can be defined using the def keyword and can be called independently."
      ],
      "metadata": {
        "id": "RmRrEdRRrLLP"
      }
    },
    {
      "cell_type": "code",
      "execution_count": 6,
      "metadata": {
        "id": "VJqBkZ_cqsJJ"
      },
      "outputs": [],
      "source": [
        "def my_function(x):\n",
        "    return x * 2\n",
        "\n",
        "result = my_function(5)  # result will be 10\n"
      ]
    },
    {
      "cell_type": "markdown",
      "source": [
        "Method\n",
        "Definition: A method is a function that is associated with an object. It is defined within a class and typically operates on instances of that class (objects).\n",
        "Usage: Methods are called on objects, and the first parameter is usually self, which refers to the instance of the class."
      ],
      "metadata": {
        "id": "NlzpAK7xsT9-"
      }
    },
    {
      "cell_type": "code",
      "source": [
        "class MyClass:\n",
        "    def my_method(self, x):\n",
        "        return x * 2\n",
        "\n",
        "obj = MyClass()\n",
        "result = obj.my_method(5)  # result will be 10\n"
      ],
      "metadata": {
        "id": "ab4JPR02sXmq"
      },
      "execution_count": null,
      "outputs": []
    },
    {
      "cell_type": "markdown",
      "source": [
        "2) Ans\n",
        "\n",
        "Parameters\n",
        "Definition: Parameters are the variables defined in a function's signature. They act as placeholders for the values that will be passed into the function when it is called.\n",
        "Usage: Parameters allow you to create flexible functions that can operate on different inputs."
      ],
      "metadata": {
        "id": "QwWaXSNOtCwr"
      }
    },
    {
      "cell_type": "code",
      "source": [
        "def greet(name):  # 'name' is a parameter\n",
        "    return f\"Hello, {name}!\"\n"
      ],
      "metadata": {
        "id": "6UvXyDFitG4q"
      },
      "execution_count": 10,
      "outputs": []
    },
    {
      "cell_type": "markdown",
      "source": [
        "Arguments\n",
        "Definition: Arguments are the actual values you pass to a function when calling it. They correspond to the parameters defined in the function.\n",
        "Usage: Arguments can be literal values, variables, or even expressions.\n"
      ],
      "metadata": {
        "id": "SbMvrpg9tYJ6"
      }
    },
    {
      "cell_type": "code",
      "source": [
        "def greet(name):  # 'name' is a parameter\n",
        "    return f\"Hello, {name}!\"\n",
        "message = greet(\"Abhijeet\")  # \"Abhijeet\" is an argument\n",
        "print(message)  # Output: Hello, Abhijeet!\n"
      ],
      "metadata": {
        "colab": {
          "base_uri": "https://localhost:8080/"
        },
        "id": "kARkyE_KtZ9t",
        "outputId": "1e67dc9c-5682-4c68-e8ab-1f1ed4522e68"
      },
      "execution_count": 16,
      "outputs": [
        {
          "output_type": "stream",
          "name": "stdout",
          "text": [
            "Hello, Abhijeet!\n"
          ]
        }
      ]
    },
    {
      "cell_type": "markdown",
      "source": [
        "3) Ans\n",
        "\n",
        "a) You can define a standard function using the def keyword."
      ],
      "metadata": {
        "id": "0oV-i4U2tk9j"
      }
    },
    {
      "cell_type": "code",
      "source": [
        "# Defination\n",
        "def my_function():\n",
        "    print(\"Hello, Abhijeet!\")\n",
        "\n",
        "#Calling the function\n",
        "my_function()  # Output: Hello, Abhijeet!\n"
      ],
      "metadata": {
        "colab": {
          "base_uri": "https://localhost:8080/"
        },
        "id": "ccnpmaGHuE51",
        "outputId": "48d65ac0-5cde-40ee-b1bd-adeacf778d9e"
      },
      "execution_count": 11,
      "outputs": [
        {
          "output_type": "stream",
          "name": "stdout",
          "text": [
            "Hello, Abhijeet!\n"
          ]
        }
      ]
    },
    {
      "cell_type": "markdown",
      "source": [
        "b) You can define functions that take parameters to make them more versatile."
      ],
      "metadata": {
        "id": "fzN1V_PbvZMa"
      }
    },
    {
      "cell_type": "code",
      "source": [
        "# Defination\n",
        "def greet(name):\n",
        "    print(f\"Hello, {name}!\")\n",
        "# Calling the function\n",
        "greet(\"Abhijeet\")  # Output: Hello, Abhijeet\n"
      ],
      "metadata": {
        "colab": {
          "base_uri": "https://localhost:8080/"
        },
        "id": "QTbimmb7vaYt",
        "outputId": "3a426e66-6eef-4dd7-9cc5-5377d0d96aab"
      },
      "execution_count": 12,
      "outputs": [
        {
          "output_type": "stream",
          "name": "stdout",
          "text": [
            "Hello, Abhijeet!\n"
          ]
        }
      ]
    },
    {
      "cell_type": "markdown",
      "source": [
        "c) Functions can return values, which can be stored or used directly."
      ],
      "metadata": {
        "id": "1nv1V-Z4vtHW"
      }
    },
    {
      "cell_type": "code",
      "source": [
        "# Defination\n",
        "def add(a, b):\n",
        "    return a * b\n",
        "# Calling the function\n",
        "result = add(3, 5)\n",
        "print(result)  # Output: 15\n"
      ],
      "metadata": {
        "colab": {
          "base_uri": "https://localhost:8080/"
        },
        "id": "q1S61R4Uvt-K",
        "outputId": "6aa7575a-ecc2-4c2a-909f-48353642dc6f"
      },
      "execution_count": 14,
      "outputs": [
        {
          "output_type": "stream",
          "name": "stdout",
          "text": [
            "15\n"
          ]
        }
      ]
    },
    {
      "cell_type": "markdown",
      "source": [
        "d) You can define functions with default parameter values."
      ],
      "metadata": {
        "id": "va1lCIuGv9ot"
      }
    },
    {
      "cell_type": "code",
      "source": [
        "# Defination\n",
        "def greet(name=\"Ashit\"):\n",
        "    return f\"Hello, {name}!\"\n",
        "# Calling the function\n",
        "print(greet())        # Output: Hello, Ashit!\n",
        "print(greet(\"Abhijeet\")) # Output: Hello, Abhijeet!\n"
      ],
      "metadata": {
        "colab": {
          "base_uri": "https://localhost:8080/"
        },
        "id": "KL9upIpuwCwN",
        "outputId": "5bf9bb20-2f34-4cfe-9a9a-e05f7e479880"
      },
      "execution_count": 19,
      "outputs": [
        {
          "output_type": "stream",
          "name": "stdout",
          "text": [
            "Hello, Ashit!\n",
            "Hello, Abhijeet!\n"
          ]
        }
      ]
    },
    {
      "cell_type": "markdown",
      "source": [
        "e) You can define functions that accept a variable number of arguments using *args and **kwargs."
      ],
      "metadata": {
        "id": "YrVKE3JdwSgJ"
      }
    },
    {
      "cell_type": "code",
      "source": [
        "# Defination\n",
        "def add_numbers(*args):\n",
        "    return sum(args)\n",
        "\n",
        "def display_info(**kwargs):\n",
        "    for key, value in kwargs.items():\n",
        "        print(f\"{key}: {value}\")\n",
        "# Calling the function\n",
        "print(add_numbers(1, 2, 3))  # Output: 6\n",
        "display_info(name=\"Abhijeet\", age=24)\n",
        "# Output:\n",
        "# name: Abhijeet\n",
        "# age: 24\n"
      ],
      "metadata": {
        "colab": {
          "base_uri": "https://localhost:8080/"
        },
        "id": "0OiA-I5twX5K",
        "outputId": "087bb109-5743-4ba5-8b09-748e0d5cf6a8"
      },
      "execution_count": 20,
      "outputs": [
        {
          "output_type": "stream",
          "name": "stdout",
          "text": [
            "6\n",
            "name: Abhijeet\n",
            "age: 24\n"
          ]
        }
      ]
    },
    {
      "cell_type": "markdown",
      "source": [
        "f) Lambda function : You can define small anonymous functions using the lambda keyword."
      ],
      "metadata": {
        "id": "3MWU1w0nwuT4"
      }
    },
    {
      "cell_type": "code",
      "source": [
        "# Defination\n",
        "multiply = lambda x, y: x * y\n",
        "\n",
        "# Calling the function\n",
        "result = multiply(3, 4)\n",
        "print(result)  # Output: 12\n",
        "\n"
      ],
      "metadata": {
        "colab": {
          "base_uri": "https://localhost:8080/"
        },
        "id": "1I6objYgwwVB",
        "outputId": "08e46126-36b1-4926-e13b-f88eb63f2c8b"
      },
      "execution_count": null,
      "outputs": [
        {
          "output_type": "stream",
          "name": "stdout",
          "text": [
            "12\n"
          ]
        }
      ]
    },
    {
      "cell_type": "markdown",
      "source": [
        "g) Nested Function : You can define a function inside another function."
      ],
      "metadata": {
        "id": "LgfaQeuVxCyZ"
      }
    },
    {
      "cell_type": "code",
      "source": [
        "# Defination\n",
        "def outer_function():\n",
        "    def inner_function():\n",
        "        return \"Hello Abhijeet!\"\n",
        "    return inner_function()\n",
        "\n",
        "# Calling the function\n",
        "print(outer_function())  # Output: Hello Abhijeet!\n"
      ],
      "metadata": {
        "colab": {
          "base_uri": "https://localhost:8080/"
        },
        "id": "gqjL7WaFxOLx",
        "outputId": "2dd4bf4c-cbf0-4a42-b713-b1e8ea442693"
      },
      "execution_count": 22,
      "outputs": [
        {
          "output_type": "stream",
          "name": "stdout",
          "text": [
            "Hello Abhijeet!\n"
          ]
        }
      ]
    },
    {
      "cell_type": "markdown",
      "source": [
        "4) Ans\n",
        "\n",
        "The return statement in a Python function serves several important purposes:\n",
        "\n",
        "1. Returning a Value\n",
        "The primary purpose of the return statement is to send a value back to the caller of the function. This allows you to capture the result of the function for further use."
      ],
      "metadata": {
        "id": "jVZuBstoxrR_"
      }
    },
    {
      "cell_type": "code",
      "source": [
        "def add(a, b):\n",
        "    return a * b\n",
        "\n",
        "result = add(3, 5)  # result will be 15\n"
      ],
      "metadata": {
        "id": "BlYCLqpX4J6p"
      },
      "execution_count": 23,
      "outputs": []
    },
    {
      "cell_type": "markdown",
      "source": [
        "2. Ending Function Execution\n",
        "When a return statement is executed, it not only returns a value but also immediately ends the execution of the function. Any code after the return statement within the same function will not be executed."
      ],
      "metadata": {
        "id": "_qlfCLhk4R2w"
      }
    },
    {
      "cell_type": "code",
      "source": [
        "def example():\n",
        "    print(\"Before return\")\n",
        "    return \"Returned value\"\n",
        "    print(\"After return\")  # This line will not be executed\n",
        "\n",
        "print(example())  # Output: Before return\\n Returned value\n"
      ],
      "metadata": {
        "colab": {
          "base_uri": "https://localhost:8080/"
        },
        "id": "4PhtSDXf4T4I",
        "outputId": "ce715e84-b726-4e0a-d92e-706aac434b73"
      },
      "execution_count": 24,
      "outputs": [
        {
          "output_type": "stream",
          "name": "stdout",
          "text": [
            "Before return\n",
            "Returned value\n"
          ]
        }
      ]
    },
    {
      "cell_type": "markdown",
      "source": [
        "3. Returning Multiple Values\n",
        "Python allows you to return multiple values as a tuple, which can be unpacked into separate variables."
      ],
      "metadata": {
        "id": "Qk5jAhr-4cKs"
      }
    },
    {
      "cell_type": "code",
      "source": [
        "def get_coordinates():\n",
        "    return (10, 20)\n",
        "\n",
        "x, y = get_coordinates()  # x will be 10, y will be 20\n"
      ],
      "metadata": {
        "id": "3rJDBPsZ4d4D"
      },
      "execution_count": null,
      "outputs": []
    },
    {
      "cell_type": "markdown",
      "source": [
        "4. Returning None\n",
        "If a function does not have a return statement, or if the return statement does not specify a value, the function returns None by default."
      ],
      "metadata": {
        "id": "G1dhvDJz4hXE"
      }
    },
    {
      "cell_type": "code",
      "source": [
        "def do_nothing():\n",
        "    pass\n",
        "\n",
        "result = do_nothing()  # result will be None\n"
      ],
      "metadata": {
        "id": "gpt_slUG4lrf"
      },
      "execution_count": null,
      "outputs": []
    },
    {
      "cell_type": "markdown",
      "source": [
        "5. Control Flow\n",
        "The return statement can be used strategically within conditional statements to control the flow of execution, returning different values based on certain conditions."
      ],
      "metadata": {
        "id": "cdYHXt6T4rmD"
      }
    },
    {
      "cell_type": "code",
      "source": [
        "def check_even_odd(number):\n",
        "    if number % 2 == 0:\n",
        "        return \"Even\"\n",
        "    else:\n",
        "        return \"Odd\"\n",
        "\n",
        "print(check_even_odd(4))  # Output: Even\n",
        "print(check_even_odd(3))  # Output: Odd\n"
      ],
      "metadata": {
        "colab": {
          "base_uri": "https://localhost:8080/"
        },
        "id": "-VM2Mw2Q4skP",
        "outputId": "5796a3a7-3e58-4f3d-b990-bde3b1d5918e"
      },
      "execution_count": null,
      "outputs": [
        {
          "output_type": "stream",
          "name": "stdout",
          "text": [
            "Even\n",
            "Odd\n"
          ]
        }
      ]
    },
    {
      "cell_type": "markdown",
      "source": [
        "5) Ans\n",
        "\n",
        "Iterator\n",
        "Definition: An iterator is an object that represents a stream of data. It is used to iterate over the elements of an iterable. An iterator must implement two methods: __iter__() and __next__().\n",
        "How It Works: The __iter__() method returns the iterator object itself (which is usually the same object). The __next__() method returns the next value from the iterator. When there are no more values to return, it raises a StopIteration exception.\n",
        "Example:"
      ],
      "metadata": {
        "id": "T2ZpsDxG4zSm"
      }
    },
    {
      "cell_type": "code",
      "source": [
        "my_list = [1, 2, 3]\n",
        "my_iter = iter(my_list)  # Create an iterator from the iterable\n",
        "print(next(my_iter))  # Output: 1\n",
        "print(next(my_iter))  # Output: 2\n",
        "print(next(my_iter))  # Output: 3\n",
        "# print(next(my_iter))  # Raises StopIteration\n"
      ],
      "metadata": {
        "colab": {
          "base_uri": "https://localhost:8080/"
        },
        "id": "Wha0SSRB5Dyl",
        "outputId": "5cf9efdf-a779-4c12-a209-aa67f5798328"
      },
      "execution_count": null,
      "outputs": [
        {
          "output_type": "stream",
          "name": "stdout",
          "text": [
            "1\n",
            "2\n",
            "3\n"
          ]
        }
      ]
    },
    {
      "cell_type": "markdown",
      "source": [
        "Iterable\n",
        "Definition: An iterable is any Python object that can be looped over using a for loop or any other iteration context. This includes data structures like lists, tuples, dictionaries, sets, and even strings.\n",
        "How It Works: Iterables implement the __iter__() method, which returns an iterator. They can also implement the __getitem__() method, allowing indexed access.\n",
        "Example:"
      ],
      "metadata": {
        "id": "eELXikiZ5T6f"
      }
    },
    {
      "cell_type": "code",
      "source": [
        "my_list = [1, 2, 3]\n",
        "for item in my_list:\n",
        "    print(item)  # Output: 1, 2, 3\n"
      ],
      "metadata": {
        "colab": {
          "base_uri": "https://localhost:8080/"
        },
        "id": "RIqWUPNd5XRx",
        "outputId": "321dc9d0-18b1-4726-ae33-184d415982fd"
      },
      "execution_count": null,
      "outputs": [
        {
          "output_type": "stream",
          "name": "stdout",
          "text": [
            "1\n",
            "2\n",
            "3\n"
          ]
        }
      ]
    },
    {
      "cell_type": "markdown",
      "source": [
        "Key Differences\n",
        "Nature:\n",
        "\n",
        "Iterable: An object that can be iterated over (e.g., lists, tuples).\n",
        "Iterator: An object that performs the actual iteration, keeping track of the current state.\n",
        "Methods:\n",
        "\n",
        "Iterable: Implements the __iter__() method.\n",
        "Iterator: Implements both __iter__() and __next__() methods.\n",
        "Usage:\n",
        "\n",
        "Iterable: Used when you want to create a collection of elements that can be traversed.\n",
        "Iterator: Used when you want to traverse the elements of the iterable one at a time, maintaining the current position."
      ],
      "metadata": {
        "id": "YDe8p9_E5fHO"
      }
    },
    {
      "cell_type": "markdown",
      "source": [
        "6) Ans\n",
        "\n",
        "Generators in Python are a special type of iterable that allow you to iterate over a sequence of values without storing the entire sequence in memory. They are defined using functions with the yield keyword instead of return. This makes generators particularly useful for working with large datasets or streams of data where you want to conserve memory."
      ],
      "metadata": {
        "id": "JrbniFFL525P"
      }
    },
    {
      "cell_type": "markdown",
      "source": [
        "Key Concepts of Generators\n",
        "Yield vs. Return:\n",
        "\n",
        "return: Ends the function and sends a value back to the caller. The function’s state is lost.\n",
        "yield: Pauses the function, saving its state, and allows it to return a value. The function can be resumed later, continuing from where it left off.\n",
        "Lazy Evaluation:\n",
        "\n",
        "Generators compute their values on the fly, which means they only generate values as needed. This can lead to significant memory savings when dealing with large datasets.\n",
        "State Preservation:\n",
        "\n",
        "When a generator function is called, it returns a generator object but does not start execution immediately. Each time next() is called on the generator, it resumes execution until it hits the next yield, maintaining its state between calls."
      ],
      "metadata": {
        "id": "WWKByD756Sj4"
      }
    },
    {
      "cell_type": "markdown",
      "source": [
        "Defining a Generator\n",
        "You can define a generator using a function with the yield keyword. Here’s how to do it:"
      ],
      "metadata": {
        "id": "N1361YLI6YKa"
      }
    },
    {
      "cell_type": "code",
      "source": [
        "def count_up_to(max):\n",
        "    count = 1\n",
        "    while count <= max:\n",
        "        yield count\n",
        "        count += 1\n"
      ],
      "metadata": {
        "id": "E2Idcnif6kR4"
      },
      "execution_count": 34,
      "outputs": []
    },
    {
      "cell_type": "markdown",
      "source": [
        "Using the Generator\n",
        "You can create a generator object and iterate through it using a for loop or the next() function."
      ],
      "metadata": {
        "id": "EJsFwHkj6u5j"
      }
    },
    {
      "cell_type": "code",
      "source": [
        "def count_up_to(max):\n",
        "    count = 1\n",
        "    while count <= max:\n",
        "        yield count\n",
        "        count += 1\n",
        "counter = count_up_to(5)\n",
        "\n",
        "# Using a for loop\n",
        "for number in counter:\n",
        "    print(number)  # Output: 1, 2, 3, 4, 5\n",
        "\n",
        "# Using next()\n",
        "counter = count_up_to(3)\n",
        "print(next(counter))  # Output: 1\n",
        "print(next(counter))  # Output: 2\n",
        "print(next(counter))  # Output: 3\n",
        "# print(next(counter))  # Raises StopIteration\n"
      ],
      "metadata": {
        "colab": {
          "base_uri": "https://localhost:8080/"
        },
        "id": "kKL-1UxU6wxB",
        "outputId": "eacd55d6-1e5b-4f39-e23e-c79961b61ae9"
      },
      "execution_count": 35,
      "outputs": [
        {
          "output_type": "stream",
          "name": "stdout",
          "text": [
            "1\n",
            "2\n",
            "3\n",
            "4\n",
            "5\n",
            "1\n",
            "2\n",
            "3\n"
          ]
        }
      ]
    },
    {
      "cell_type": "markdown",
      "source": [
        "7) Ans\n",
        "\n",
        "\n",
        "Generators offer several advantages over regular functions, especially in scenarios involving iteration and handling large datasets. Here are the key benefits:\n",
        "\n",
        "1. Memory Efficiency\n",
        "Lazy Evaluation: Generators compute values on-the-fly and only when requested. This means they don’t store the entire sequence in memory, which is especially useful for large datasets or infinite sequences.\n",
        "2. Represent Infinite Sequences\n",
        "Generators can produce values indefinitely. For example, you can create a generator for an infinite series (like natural numbers) without running out of memory, as you only generate what you need.\n",
        "3. State Preservation\n",
        "Generators maintain their internal state between successive calls. This allows them to yield the next value each time they're called without needing to pass all data around, unlike regular functions that return a value and terminate.\n",
        "4. Improved Performance\n",
        "For large datasets, generators can improve performance by yielding items one at a time rather than constructing a complete data structure. This reduces the overhead of memory allocation and improves responsiveness in some applications.\n",
        "5. Cleaner Code\n",
        "Generators can make code easier to read and maintain, particularly when dealing with sequences of data. Using yield can simplify the logic for producing sequences compared to managing indices or temporary lists.\n",
        "6. Pipeline Processing\n",
        "Generators can be composed together to create a pipeline of data processing steps. You can easily connect multiple generators to filter, map, or aggregate data in a readable and efficient manner."
      ],
      "metadata": {
        "id": "CivfZfXy7FUz"
      }
    },
    {
      "cell_type": "code",
      "source": [
        "# Using Regular function\n",
        "def generate_squares(n):\n",
        "    return [x * x for x in range(n)]\n",
        "\n",
        "# Calling the function\n",
        "squares = generate_squares(5)  # Creates the entire list in memory\n",
        "print(squares)  # Output: [0, 1, 4, 9, 16]\n"
      ],
      "metadata": {
        "colab": {
          "base_uri": "https://localhost:8080/"
        },
        "id": "C9SANKae8JLz",
        "outputId": "33e14853-2d0b-457f-aa4b-0cc98d6e7618"
      },
      "execution_count": 26,
      "outputs": [
        {
          "output_type": "stream",
          "name": "stdout",
          "text": [
            "[0, 1, 4, 9, 16]\n"
          ]
        }
      ]
    },
    {
      "cell_type": "code",
      "source": [
        "# Using a Generator\n",
        "\n",
        "def generate_squares(n):\n",
        "    for x in range(n):\n",
        "        yield x * x\n",
        "\n",
        "# Calling the generator\n",
        "squares = generate_squares(5)  # Does not create a list in memory\n",
        "for square in squares:\n",
        "    print(square)  # Output: 0, 1, 4, 9, 16\n"
      ],
      "metadata": {
        "colab": {
          "base_uri": "https://localhost:8080/"
        },
        "id": "q_HtlI_d8U-z",
        "outputId": "3ef51158-8ad2-430c-b197-634250a9bb04"
      },
      "execution_count": null,
      "outputs": [
        {
          "output_type": "stream",
          "name": "stdout",
          "text": [
            "0\n",
            "1\n",
            "4\n",
            "9\n",
            "16\n"
          ]
        }
      ]
    },
    {
      "cell_type": "markdown",
      "source": [
        "8) Ans\n",
        "\n",
        "A lambda function in Python is a small, anonymous function defined using the lambda keyword. Unlike regular functions defined with the def keyword, lambda functions are typically used for short, simple operations where creating a full function is unnecessary."
      ],
      "metadata": {
        "id": "8f5zziQQ8pPv"
      }
    },
    {
      "cell_type": "code",
      "source": [
        "# Syntax\n",
        "\n",
        "#lambda arguments: expression\n"
      ],
      "metadata": {
        "id": "kLNOsyDJ9Ilt"
      },
      "execution_count": 36,
      "outputs": []
    },
    {
      "cell_type": "code",
      "source": [
        "add = lambda x, y: x + y\n",
        "print(add(3, 5))  # Output: 8\n"
      ],
      "metadata": {
        "colab": {
          "base_uri": "https://localhost:8080/"
        },
        "id": "-39sn8S49T9M",
        "outputId": "179924ec-ae58-4dc0-8ae5-32434cb96d92"
      },
      "execution_count": 37,
      "outputs": [
        {
          "output_type": "stream",
          "name": "stdout",
          "text": [
            "8\n"
          ]
        }
      ]
    },
    {
      "cell_type": "code",
      "source": [
        "# Using with map():\n",
        "\n",
        "numbers = [1, 2, 3, 4]\n",
        "squares = list(map(lambda x: x ** 2, numbers))\n",
        "print(squares)  # Output: [1, 4, 9, 16]\n"
      ],
      "metadata": {
        "colab": {
          "base_uri": "https://localhost:8080/"
        },
        "id": "-6GgUEiP9Zl-",
        "outputId": "77901568-23d5-4952-e033-83ccf8a997d9"
      },
      "execution_count": null,
      "outputs": [
        {
          "output_type": "stream",
          "name": "stdout",
          "text": [
            "[1, 4, 9, 16]\n"
          ]
        }
      ]
    },
    {
      "cell_type": "code",
      "source": [
        "# Using with filter():\n",
        "\n",
        "even_numbers = list(filter(lambda x: x % 2 == 0, numbers))\n",
        "print(even_numbers)  # Output: [2, 4]\n"
      ],
      "metadata": {
        "colab": {
          "base_uri": "https://localhost:8080/"
        },
        "id": "d_p8MDrY9iW7",
        "outputId": "6d0a9aed-5666-4826-8506-3d5248289071"
      },
      "execution_count": null,
      "outputs": [
        {
          "output_type": "stream",
          "name": "stdout",
          "text": [
            "[2, 4]\n"
          ]
        }
      ]
    },
    {
      "cell_type": "code",
      "source": [
        "# Using with sorted():\n",
        "pairs = [(1, 'one'), (2, 'two'), (3, 'three')]\n",
        "sorted_pairs = sorted(pairs, key=lambda x: x[1])\n",
        "print(sorted_pairs)  # Output: [(1, 'one'), (3, 'three'), (2, 'two')]\n"
      ],
      "metadata": {
        "colab": {
          "base_uri": "https://localhost:8080/"
        },
        "id": "pcqGGyIP9stW",
        "outputId": "75c11546-bada-4be0-ed02-386f3b215f71"
      },
      "execution_count": null,
      "outputs": [
        {
          "output_type": "stream",
          "name": "stdout",
          "text": [
            "[(1, 'one'), (3, 'three'), (2, 'two')]\n"
          ]
        }
      ]
    },
    {
      "cell_type": "markdown",
      "source": [
        "9) Ans\n",
        "\n",
        "The map() function in Python is used to apply a specified function to each item in an iterable (like a list, tuple, or string) and return a map object (which is an iterator). This can be particularly useful for transforming data without the need for an explicit loop.\n",
        "\n",
        "Purpose\n",
        "Transformation: map() allows you to efficiently apply a function to each element of an iterable, transforming the data in a concise way.\n",
        "Readability: It can make your code cleaner and more readable compared to using a for loop."
      ],
      "metadata": {
        "id": "cv117rMx95XN"
      }
    },
    {
      "cell_type": "code",
      "source": [
        "# Syntax\n",
        "#map(function, iterable, ...)"
      ],
      "metadata": {
        "id": "vORA9lbAOPRI"
      },
      "execution_count": 46,
      "outputs": []
    },
    {
      "cell_type": "markdown",
      "source": [
        "function: A function that takes one or more arguments.\n",
        "iterable: One or more iterable objects (like lists, tuples, etc.)."
      ],
      "metadata": {
        "id": "-3ft_OqqOnyp"
      }
    },
    {
      "cell_type": "markdown",
      "source": [
        "Usage\n",
        "a) Single Iterable: If you have a single iterable and want to apply a function to each of its elements, you can do so like this:"
      ],
      "metadata": {
        "id": "yPlebi_OOo-9"
      }
    },
    {
      "cell_type": "code",
      "source": [
        "def square(x):\n",
        "    return x * x\n",
        "\n",
        "numbers = [1, 2, 3, 4]\n",
        "squared_numbers = map(square, numbers)\n",
        "\n",
        "# Convert the map object to a list\n",
        "print(list(squared_numbers))  # Output: [1, 4, 9, 16]\n"
      ],
      "metadata": {
        "colab": {
          "base_uri": "https://localhost:8080/"
        },
        "id": "snKGiFePOwwO",
        "outputId": "1fa33a17-6091-4ca5-d2da-74e6a3b435d3"
      },
      "execution_count": 47,
      "outputs": [
        {
          "output_type": "stream",
          "name": "stdout",
          "text": [
            "[1, 4, 9, 16]\n"
          ]
        }
      ]
    },
    {
      "cell_type": "markdown",
      "source": [
        "b) Multiple Iterables: You can also pass multiple iterables. The function should then accept as many arguments as there are iterables:"
      ],
      "metadata": {
        "id": "D21zyQg6O8ra"
      }
    },
    {
      "cell_type": "code",
      "source": [
        "def add(x, y):\n",
        "    return x + y\n",
        "\n",
        "list1 = [1, 2, 3]\n",
        "list2 = [4, 5, 6]\n",
        "summed = map(add, list1, list2)\n",
        "\n",
        "print(list(summed))  # Output: [5, 7, 9]\n"
      ],
      "metadata": {
        "colab": {
          "base_uri": "https://localhost:8080/"
        },
        "id": "irh5jJWxPCXG",
        "outputId": "254b9f83-f962-4736-9d0b-3d60f13da0d4"
      },
      "execution_count": 48,
      "outputs": [
        {
          "output_type": "stream",
          "name": "stdout",
          "text": [
            "[5, 7, 9]\n"
          ]
        }
      ]
    },
    {
      "cell_type": "markdown",
      "source": [
        "c) Using Lambda Functions: Often, you might use a lambda function for simplicity:"
      ],
      "metadata": {
        "id": "uB9vl2X0PLU6"
      }
    },
    {
      "cell_type": "code",
      "source": [
        "numbers = [1, 2, 3, 4]\n",
        "squared_numbers = map(lambda x: x * x, numbers)\n",
        "\n",
        "print(list(squared_numbers))  # Output: [1, 4, 9, 16]\n"
      ],
      "metadata": {
        "colab": {
          "base_uri": "https://localhost:8080/"
        },
        "id": "-ms3CgOkPTlj",
        "outputId": "1903f5fb-ad68-4789-8d24-edefe69f2dce"
      },
      "execution_count": 49,
      "outputs": [
        {
          "output_type": "stream",
          "name": "stdout",
          "text": [
            "[1, 4, 9, 16]\n"
          ]
        }
      ]
    },
    {
      "cell_type": "markdown",
      "source": [
        "10) Ans\n",
        "\n",
        "In Python, map(), reduce(), and filter() are all higher-order functions that operate on iterables, but they serve different purposes. Here’s a breakdown of each:"
      ],
      "metadata": {
        "id": "WNpysEZsPukh"
      }
    },
    {
      "cell_type": "markdown",
      "source": [
        "a)\n",
        "\n",
        "map()\n",
        "\n",
        "Purpose: Applies a given function to each item in an iterable and returns an iterator of the results.\n",
        "Usage: Best for transforming data."
      ],
      "metadata": {
        "id": "aakxTogfQGGR"
      }
    },
    {
      "cell_type": "code",
      "source": [
        "numbers = [1, 2, 3, 4]\n",
        "squared = map(lambda x: x * x, numbers)\n",
        "print(list(squared))  # Output: [1, 4, 9, 16]\n"
      ],
      "metadata": {
        "colab": {
          "base_uri": "https://localhost:8080/"
        },
        "id": "YJlLcm4SQTKD",
        "outputId": "533c5ba6-9f59-4755-eb76-616be203e565"
      },
      "execution_count": 50,
      "outputs": [
        {
          "output_type": "stream",
          "name": "stdout",
          "text": [
            "[1, 4, 9, 16]\n"
          ]
        }
      ]
    },
    {
      "cell_type": "markdown",
      "source": [
        "b)\n",
        "\n",
        " filter()\n",
        "\n",
        "\n",
        "Purpose: Applies a function to each item in an iterable and returns an iterator containing only the items for which the function returns True.\n",
        "Usage: Best for selecting items based on a condition."
      ],
      "metadata": {
        "id": "jyDd9jUwQZRt"
      }
    },
    {
      "cell_type": "code",
      "source": [
        "numbers = [1, 2, 3, 4, 5]\n",
        "even_numbers = filter(lambda x: x % 2 == 0, numbers)\n",
        "print(list(even_numbers))  # Output: [2, 4]\n"
      ],
      "metadata": {
        "colab": {
          "base_uri": "https://localhost:8080/"
        },
        "id": "2YDC9kK-QiDn",
        "outputId": "6f7d2fa5-92df-4271-bec6-beac7e60e254"
      },
      "execution_count": 51,
      "outputs": [
        {
          "output_type": "stream",
          "name": "stdout",
          "text": [
            "[2, 4]\n"
          ]
        }
      ]
    },
    {
      "cell_type": "markdown",
      "source": [
        "c)\n",
        "\n",
        "reduce()\n",
        "\n",
        "\n",
        "Purpose: Applies a binary function cumulatively to the items of an iterable, reducing the iterable to a single value.\n",
        "Usage: Best for aggregating data."
      ],
      "metadata": {
        "id": "W8yRdpArQk9N"
      }
    },
    {
      "cell_type": "code",
      "source": [
        "from functools import reduce\n",
        "\n",
        "numbers = [1, 2, 3, 4]\n",
        "sum_result = reduce(lambda x, y: x + y, numbers)\n",
        "print(sum_result)  # Output: 10\n"
      ],
      "metadata": {
        "colab": {
          "base_uri": "https://localhost:8080/"
        },
        "id": "N3SQkyDMQv0F",
        "outputId": "2bcf21a2-1b07-4007-8ddd-f9215dc826e2"
      },
      "execution_count": 52,
      "outputs": [
        {
          "output_type": "stream",
          "name": "stdout",
          "text": [
            "10\n"
          ]
        }
      ]
    }
  ]
}